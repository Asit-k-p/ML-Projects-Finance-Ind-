{
 "cells": [
  {
   "cell_type": "markdown",
   "id": "31dba06b",
   "metadata": {},
   "source": [
    "Udemy Data Set(Finance and Accounting Courses)\n",
    "Objecitve: To find out the best courses to be reccomended to the employees/members of an organizaion"
   ]
  },
  {
   "cell_type": "code",
   "execution_count": 10,
   "id": "2c50ff2d",
   "metadata": {},
   "outputs": [],
   "source": [
    "import pandas as pd\n",
    "import numpy as np\n",
    "import matplotlib.pyplot as plt\n",
    "import seaborn as sns\n",
    "%matplotlib inline\n",
    "\n",
    "# Hide All Warnings\n",
    "import warnings\n",
    "warnings.filterwarnings('ignore')\n",
    "\n",
    "from sklearn.preprocessing import StandardScaler"
   ]
  },
  {
   "cell_type": "code",
   "execution_count": 3,
   "id": "43286dd9",
   "metadata": {},
   "outputs": [],
   "source": [
    "df=pd.read_csv('C:/Users/user/Desktop/intellipaat/Datasets/udemy_courses.csv')"
   ]
  },
  {
   "cell_type": "code",
   "execution_count": 4,
   "id": "13476ab9",
   "metadata": {},
   "outputs": [
    {
     "data": {
      "text/html": [
       "<div>\n",
       "<style scoped>\n",
       "    .dataframe tbody tr th:only-of-type {\n",
       "        vertical-align: middle;\n",
       "    }\n",
       "\n",
       "    .dataframe tbody tr th {\n",
       "        vertical-align: top;\n",
       "    }\n",
       "\n",
       "    .dataframe thead th {\n",
       "        text-align: right;\n",
       "    }\n",
       "</style>\n",
       "<table border=\"1\" class=\"dataframe\">\n",
       "  <thead>\n",
       "    <tr style=\"text-align: right;\">\n",
       "      <th></th>\n",
       "      <th>course_id</th>\n",
       "      <th>course_title</th>\n",
       "      <th>url</th>\n",
       "      <th>is_paid</th>\n",
       "      <th>price</th>\n",
       "      <th>num_subscribers</th>\n",
       "      <th>num_reviews</th>\n",
       "      <th>num_lectures</th>\n",
       "      <th>level</th>\n",
       "      <th>content_duration</th>\n",
       "      <th>published_timestamp</th>\n",
       "      <th>subject</th>\n",
       "    </tr>\n",
       "  </thead>\n",
       "  <tbody>\n",
       "    <tr>\n",
       "      <th>0</th>\n",
       "      <td>1070968</td>\n",
       "      <td>Ultimate Investment Banking Course</td>\n",
       "      <td>https://www.udemy.com/ultimate-investment-bank...</td>\n",
       "      <td>True</td>\n",
       "      <td>200</td>\n",
       "      <td>2147</td>\n",
       "      <td>23</td>\n",
       "      <td>51</td>\n",
       "      <td>All Levels</td>\n",
       "      <td>1.5</td>\n",
       "      <td>2017-01-18T20:58:58Z</td>\n",
       "      <td>Business Finance</td>\n",
       "    </tr>\n",
       "    <tr>\n",
       "      <th>1</th>\n",
       "      <td>1113822</td>\n",
       "      <td>Complete GST Course &amp; Certification - Grow You...</td>\n",
       "      <td>https://www.udemy.com/goods-and-services-tax/</td>\n",
       "      <td>True</td>\n",
       "      <td>75</td>\n",
       "      <td>2792</td>\n",
       "      <td>923</td>\n",
       "      <td>274</td>\n",
       "      <td>All Levels</td>\n",
       "      <td>39.0</td>\n",
       "      <td>2017-03-09T16:34:20Z</td>\n",
       "      <td>Business Finance</td>\n",
       "    </tr>\n",
       "    <tr>\n",
       "      <th>2</th>\n",
       "      <td>1006314</td>\n",
       "      <td>Financial Modeling for Business Analysts and C...</td>\n",
       "      <td>https://www.udemy.com/financial-modeling-for-b...</td>\n",
       "      <td>True</td>\n",
       "      <td>45</td>\n",
       "      <td>2174</td>\n",
       "      <td>74</td>\n",
       "      <td>51</td>\n",
       "      <td>Intermediate Level</td>\n",
       "      <td>2.5</td>\n",
       "      <td>2016-12-19T19:26:30Z</td>\n",
       "      <td>Business Finance</td>\n",
       "    </tr>\n",
       "    <tr>\n",
       "      <th>3</th>\n",
       "      <td>1210588</td>\n",
       "      <td>Beginner to Pro - Financial Analysis in Excel ...</td>\n",
       "      <td>https://www.udemy.com/complete-excel-finance-c...</td>\n",
       "      <td>True</td>\n",
       "      <td>95</td>\n",
       "      <td>2451</td>\n",
       "      <td>11</td>\n",
       "      <td>36</td>\n",
       "      <td>All Levels</td>\n",
       "      <td>3.0</td>\n",
       "      <td>2017-05-30T20:07:24Z</td>\n",
       "      <td>Business Finance</td>\n",
       "    </tr>\n",
       "    <tr>\n",
       "      <th>4</th>\n",
       "      <td>1011058</td>\n",
       "      <td>How To Maximize Your Profits Trading Options</td>\n",
       "      <td>https://www.udemy.com/how-to-maximize-your-pro...</td>\n",
       "      <td>True</td>\n",
       "      <td>200</td>\n",
       "      <td>1276</td>\n",
       "      <td>45</td>\n",
       "      <td>26</td>\n",
       "      <td>Intermediate Level</td>\n",
       "      <td>2.0</td>\n",
       "      <td>2016-12-13T14:57:18Z</td>\n",
       "      <td>Business Finance</td>\n",
       "    </tr>\n",
       "  </tbody>\n",
       "</table>\n",
       "</div>"
      ],
      "text/plain": [
       "   course_id                                       course_title  \\\n",
       "0    1070968                 Ultimate Investment Banking Course   \n",
       "1    1113822  Complete GST Course & Certification - Grow You...   \n",
       "2    1006314  Financial Modeling for Business Analysts and C...   \n",
       "3    1210588  Beginner to Pro - Financial Analysis in Excel ...   \n",
       "4    1011058       How To Maximize Your Profits Trading Options   \n",
       "\n",
       "                                                 url  is_paid  price  \\\n",
       "0  https://www.udemy.com/ultimate-investment-bank...     True    200   \n",
       "1      https://www.udemy.com/goods-and-services-tax/     True     75   \n",
       "2  https://www.udemy.com/financial-modeling-for-b...     True     45   \n",
       "3  https://www.udemy.com/complete-excel-finance-c...     True     95   \n",
       "4  https://www.udemy.com/how-to-maximize-your-pro...     True    200   \n",
       "\n",
       "   num_subscribers  num_reviews  num_lectures               level  \\\n",
       "0             2147           23            51          All Levels   \n",
       "1             2792          923           274          All Levels   \n",
       "2             2174           74            51  Intermediate Level   \n",
       "3             2451           11            36          All Levels   \n",
       "4             1276           45            26  Intermediate Level   \n",
       "\n",
       "   content_duration   published_timestamp           subject  \n",
       "0               1.5  2017-01-18T20:58:58Z  Business Finance  \n",
       "1              39.0  2017-03-09T16:34:20Z  Business Finance  \n",
       "2               2.5  2016-12-19T19:26:30Z  Business Finance  \n",
       "3               3.0  2017-05-30T20:07:24Z  Business Finance  \n",
       "4               2.0  2016-12-13T14:57:18Z  Business Finance  "
      ]
     },
     "execution_count": 4,
     "metadata": {},
     "output_type": "execute_result"
    }
   ],
   "source": [
    "df.head()"
   ]
  },
  {
   "cell_type": "code",
   "execution_count": 5,
   "id": "cb4d447c",
   "metadata": {},
   "outputs": [
    {
     "data": {
      "text/plain": [
       "(3678, 12)"
      ]
     },
     "execution_count": 5,
     "metadata": {},
     "output_type": "execute_result"
    }
   ],
   "source": [
    "df.shape"
   ]
  },
  {
   "cell_type": "code",
   "execution_count": 6,
   "id": "c1c14a00",
   "metadata": {},
   "outputs": [
    {
     "name": "stdout",
     "output_type": "stream",
     "text": [
      "<class 'pandas.core.frame.DataFrame'>\n",
      "RangeIndex: 3678 entries, 0 to 3677\n",
      "Data columns (total 12 columns):\n",
      " #   Column               Non-Null Count  Dtype  \n",
      "---  ------               --------------  -----  \n",
      " 0   course_id            3678 non-null   int64  \n",
      " 1   course_title         3678 non-null   object \n",
      " 2   url                  3678 non-null   object \n",
      " 3   is_paid              3678 non-null   bool   \n",
      " 4   price                3678 non-null   int64  \n",
      " 5   num_subscribers      3678 non-null   int64  \n",
      " 6   num_reviews          3678 non-null   int64  \n",
      " 7   num_lectures         3678 non-null   int64  \n",
      " 8   level                3678 non-null   object \n",
      " 9   content_duration     3678 non-null   float64\n",
      " 10  published_timestamp  3678 non-null   object \n",
      " 11  subject              3678 non-null   object \n",
      "dtypes: bool(1), float64(1), int64(5), object(5)\n",
      "memory usage: 319.8+ KB\n"
     ]
    }
   ],
   "source": [
    "df.info()"
   ]
  },
  {
   "cell_type": "code",
   "execution_count": 7,
   "id": "5849f5b8",
   "metadata": {},
   "outputs": [
    {
     "data": {
      "text/html": [
       "<div>\n",
       "<style scoped>\n",
       "    .dataframe tbody tr th:only-of-type {\n",
       "        vertical-align: middle;\n",
       "    }\n",
       "\n",
       "    .dataframe tbody tr th {\n",
       "        vertical-align: top;\n",
       "    }\n",
       "\n",
       "    .dataframe thead th {\n",
       "        text-align: right;\n",
       "    }\n",
       "</style>\n",
       "<table border=\"1\" class=\"dataframe\">\n",
       "  <thead>\n",
       "    <tr style=\"text-align: right;\">\n",
       "      <th></th>\n",
       "      <th>course_id</th>\n",
       "      <th>price</th>\n",
       "      <th>num_subscribers</th>\n",
       "      <th>num_reviews</th>\n",
       "      <th>num_lectures</th>\n",
       "      <th>content_duration</th>\n",
       "    </tr>\n",
       "  </thead>\n",
       "  <tbody>\n",
       "    <tr>\n",
       "      <th>count</th>\n",
       "      <td>3.678000e+03</td>\n",
       "      <td>3678.000000</td>\n",
       "      <td>3678.000000</td>\n",
       "      <td>3678.000000</td>\n",
       "      <td>3678.000000</td>\n",
       "      <td>3678.000000</td>\n",
       "    </tr>\n",
       "    <tr>\n",
       "      <th>mean</th>\n",
       "      <td>6.759720e+05</td>\n",
       "      <td>66.049483</td>\n",
       "      <td>3197.150625</td>\n",
       "      <td>156.259108</td>\n",
       "      <td>40.108755</td>\n",
       "      <td>4.094517</td>\n",
       "    </tr>\n",
       "    <tr>\n",
       "      <th>std</th>\n",
       "      <td>3.432732e+05</td>\n",
       "      <td>61.005755</td>\n",
       "      <td>9504.117010</td>\n",
       "      <td>935.452044</td>\n",
       "      <td>50.383346</td>\n",
       "      <td>6.053840</td>\n",
       "    </tr>\n",
       "    <tr>\n",
       "      <th>min</th>\n",
       "      <td>8.324000e+03</td>\n",
       "      <td>0.000000</td>\n",
       "      <td>0.000000</td>\n",
       "      <td>0.000000</td>\n",
       "      <td>0.000000</td>\n",
       "      <td>0.000000</td>\n",
       "    </tr>\n",
       "    <tr>\n",
       "      <th>25%</th>\n",
       "      <td>4.076925e+05</td>\n",
       "      <td>20.000000</td>\n",
       "      <td>111.000000</td>\n",
       "      <td>4.000000</td>\n",
       "      <td>15.000000</td>\n",
       "      <td>1.000000</td>\n",
       "    </tr>\n",
       "    <tr>\n",
       "      <th>50%</th>\n",
       "      <td>6.879170e+05</td>\n",
       "      <td>45.000000</td>\n",
       "      <td>911.500000</td>\n",
       "      <td>18.000000</td>\n",
       "      <td>25.000000</td>\n",
       "      <td>2.000000</td>\n",
       "    </tr>\n",
       "    <tr>\n",
       "      <th>75%</th>\n",
       "      <td>9.613555e+05</td>\n",
       "      <td>95.000000</td>\n",
       "      <td>2546.000000</td>\n",
       "      <td>67.000000</td>\n",
       "      <td>45.750000</td>\n",
       "      <td>4.500000</td>\n",
       "    </tr>\n",
       "    <tr>\n",
       "      <th>max</th>\n",
       "      <td>1.282064e+06</td>\n",
       "      <td>200.000000</td>\n",
       "      <td>268923.000000</td>\n",
       "      <td>27445.000000</td>\n",
       "      <td>779.000000</td>\n",
       "      <td>78.500000</td>\n",
       "    </tr>\n",
       "  </tbody>\n",
       "</table>\n",
       "</div>"
      ],
      "text/plain": [
       "          course_id        price  num_subscribers   num_reviews  num_lectures  \\\n",
       "count  3.678000e+03  3678.000000      3678.000000   3678.000000   3678.000000   \n",
       "mean   6.759720e+05    66.049483      3197.150625    156.259108     40.108755   \n",
       "std    3.432732e+05    61.005755      9504.117010    935.452044     50.383346   \n",
       "min    8.324000e+03     0.000000         0.000000      0.000000      0.000000   \n",
       "25%    4.076925e+05    20.000000       111.000000      4.000000     15.000000   \n",
       "50%    6.879170e+05    45.000000       911.500000     18.000000     25.000000   \n",
       "75%    9.613555e+05    95.000000      2546.000000     67.000000     45.750000   \n",
       "max    1.282064e+06   200.000000    268923.000000  27445.000000    779.000000   \n",
       "\n",
       "       content_duration  \n",
       "count       3678.000000  \n",
       "mean           4.094517  \n",
       "std            6.053840  \n",
       "min            0.000000  \n",
       "25%            1.000000  \n",
       "50%            2.000000  \n",
       "75%            4.500000  \n",
       "max           78.500000  "
      ]
     },
     "execution_count": 7,
     "metadata": {},
     "output_type": "execute_result"
    }
   ],
   "source": [
    "df.describe()"
   ]
  },
  {
   "cell_type": "markdown",
   "id": "cae9f247",
   "metadata": {},
   "source": [
    "### Questions\n",
    "+ Course Title\n",
    "\t- What is the most frequent words in course title\n",
    "\t- Longest/Shortest course title\n",
    "\t- How can we build recommendation systems via title using similarity\n",
    "\t- Most famous courses by number of subscribers\n",
    "\n",
    "+ Subjects/Category\n",
    "\t- What is the distribution of subjects\n",
    "\t- How many courses per subject\n",
    "\t- Distribution of subjects per year\n",
    "\t- How many people purchase a particular subject\n",
    "\t- Which subject is the most popular\n",
    "\n",
    "+ Published Year\n",
    "\t- Number of courses per year\n",
    "\t- Which year has the highest number of courses\n",
    "\t- What is the trend of courses per year\n",
    "\n",
    "+ Levels\n",
    "\t- How many levels do we have\n",
    "\t- What is the distribution of courses per levels\n",
    "\t- Which subject have the highest levels\n",
    "\t- How many subscribers per levels\n",
    "\t- How many courses per levels\n",
    "\n",
    "+ Duration of Course\n",
    "\t- Which courses have the highest duration (paid or not)\n",
    "\t- Which courses have higher duration\n",
    "\t- Duration vs number of subscribers\n",
    "\n",
    "+ Subscribers\n",
    "\t- Which course have the highest number of subscribers\n",
    "\t- Average number of subscribers\n",
    "\t- Number of subscribers per Subject\n",
    "\t- Number of subscribers per year\n",
    "\n",
    "+ Price\n",
    "\t- What is the average price of a course\n",
    "\t- What is the min/max price\n",
    "\t- How much does Udemy earn\n",
    "\t- The most profitable courses\n",
    "\n",
    "+ Correlation Questions\n",
    "\t- Does number of subscribers depend on\n",
    "\t- number of reviews\n",
    "\t- price\n",
    "\t- number of lectures\n",
    "\t- content duration"
   ]
  },
  {
   "cell_type": "code",
   "execution_count": 173,
   "id": "46a07066",
   "metadata": {},
   "outputs": [],
   "source": [
    "#converting the timestamp into proper format"
   ]
  },
  {
   "cell_type": "code",
   "execution_count": 18,
   "id": "77406ca2",
   "metadata": {},
   "outputs": [
    {
     "data": {
      "text/plain": [
       "0    2017-01-18T20:58:58Z\n",
       "1    2017-03-09T16:34:20Z\n",
       "2    2016-12-19T19:26:30Z\n",
       "3    2017-05-30T20:07:24Z\n",
       "4    2016-12-13T14:57:18Z\n",
       "Name: published_timestamp, dtype: object"
      ]
     },
     "execution_count": 18,
     "metadata": {},
     "output_type": "execute_result"
    }
   ],
   "source": [
    "df['published_timestamp'].head()"
   ]
  },
  {
   "cell_type": "code",
   "execution_count": 19,
   "id": "0329f310",
   "metadata": {},
   "outputs": [
    {
     "data": {
      "text/plain": [
       "0       [2017-01-18, 20:58:58Z]\n",
       "1       [2017-03-09, 16:34:20Z]\n",
       "2       [2016-12-19, 19:26:30Z]\n",
       "3       [2017-05-30, 20:07:24Z]\n",
       "4       [2016-12-13, 14:57:18Z]\n",
       "                 ...           \n",
       "3673    [2016-06-14, 17:36:46Z]\n",
       "3674    [2017-03-10, 22:24:30Z]\n",
       "3675    [2015-12-30, 16:41:42Z]\n",
       "3676    [2016-08-11, 19:06:15Z]\n",
       "3677    [2014-09-28, 19:51:11Z]\n",
       "Name: published_timestamp, Length: 3678, dtype: object"
      ]
     },
     "execution_count": 19,
     "metadata": {},
     "output_type": "execute_result"
    }
   ],
   "source": [
    "df['published_timestamp'].str.split('T')"
   ]
  },
  {
   "cell_type": "code",
   "execution_count": 20,
   "id": "999c369d",
   "metadata": {},
   "outputs": [],
   "source": [
    "df['published_date'] = df['published_timestamp'].str.split('T').str.get(0)"
   ]
  },
  {
   "cell_type": "code",
   "execution_count": 21,
   "id": "8ad66784",
   "metadata": {},
   "outputs": [
    {
     "data": {
      "text/plain": [
       "0    2017-01-18\n",
       "1    2017-03-09\n",
       "2    2016-12-19\n",
       "3    2017-05-30\n",
       "4    2016-12-13\n",
       "Name: published_date, dtype: object"
      ]
     },
     "execution_count": 21,
     "metadata": {},
     "output_type": "execute_result"
    }
   ],
   "source": [
    "df['published_date'].head()"
   ]
  },
  {
   "cell_type": "code",
   "execution_count": 23,
   "id": "c0871d2e",
   "metadata": {},
   "outputs": [
    {
     "data": {
      "text/plain": [
       "dtype('O')"
      ]
     },
     "execution_count": 23,
     "metadata": {},
     "output_type": "execute_result"
    }
   ],
   "source": [
    "df['published_date'].dtype"
   ]
  },
  {
   "cell_type": "code",
   "execution_count": 24,
   "id": "8411bb54",
   "metadata": {},
   "outputs": [],
   "source": [
    "#converting object to date type using \n",
    "from datetime import datetime"
   ]
  },
  {
   "cell_type": "code",
   "execution_count": 25,
   "id": "6a22dca0",
   "metadata": {},
   "outputs": [],
   "source": [
    "def convert_to_dt(x):\n",
    "    mydate = datetime.strptime(x,'%Y-%m-%d')\n",
    "    result = mydate.strftime(\"%Y-%m-%d\")\n",
    "    return result"
   ]
  },
  {
   "cell_type": "code",
   "execution_count": 27,
   "id": "469d65a1",
   "metadata": {},
   "outputs": [],
   "source": [
    "df['published_date'] = df['published_date'].apply(lambda x: convert_to_dt(x))"
   ]
  },
  {
   "cell_type": "code",
   "execution_count": 30,
   "id": "b3fc0d04",
   "metadata": {},
   "outputs": [
    {
     "data": {
      "text/html": [
       "<div>\n",
       "<style scoped>\n",
       "    .dataframe tbody tr th:only-of-type {\n",
       "        vertical-align: middle;\n",
       "    }\n",
       "\n",
       "    .dataframe tbody tr th {\n",
       "        vertical-align: top;\n",
       "    }\n",
       "\n",
       "    .dataframe thead th {\n",
       "        text-align: right;\n",
       "    }\n",
       "</style>\n",
       "<table border=\"1\" class=\"dataframe\">\n",
       "  <thead>\n",
       "    <tr style=\"text-align: right;\">\n",
       "      <th></th>\n",
       "      <th>course_id</th>\n",
       "      <th>course_title</th>\n",
       "      <th>url</th>\n",
       "      <th>is_paid</th>\n",
       "      <th>price</th>\n",
       "      <th>num_subscribers</th>\n",
       "      <th>num_reviews</th>\n",
       "      <th>num_lectures</th>\n",
       "      <th>level</th>\n",
       "      <th>content_duration</th>\n",
       "      <th>published_timestamp</th>\n",
       "      <th>subject</th>\n",
       "      <th>published_date</th>\n",
       "    </tr>\n",
       "  </thead>\n",
       "  <tbody>\n",
       "    <tr>\n",
       "      <th>0</th>\n",
       "      <td>1070968</td>\n",
       "      <td>Ultimate Investment Banking Course</td>\n",
       "      <td>https://www.udemy.com/ultimate-investment-bank...</td>\n",
       "      <td>True</td>\n",
       "      <td>200</td>\n",
       "      <td>2147</td>\n",
       "      <td>23</td>\n",
       "      <td>51</td>\n",
       "      <td>All Levels</td>\n",
       "      <td>1.5</td>\n",
       "      <td>2017-01-18T20:58:58Z</td>\n",
       "      <td>Business Finance</td>\n",
       "      <td>2017-01-18</td>\n",
       "    </tr>\n",
       "  </tbody>\n",
       "</table>\n",
       "</div>"
      ],
      "text/plain": [
       "   course_id                        course_title  \\\n",
       "0    1070968  Ultimate Investment Banking Course   \n",
       "\n",
       "                                                 url  is_paid  price  \\\n",
       "0  https://www.udemy.com/ultimate-investment-bank...     True    200   \n",
       "\n",
       "   num_subscribers  num_reviews  num_lectures       level  content_duration  \\\n",
       "0             2147           23            51  All Levels               1.5   \n",
       "\n",
       "    published_timestamp           subject published_date  \n",
       "0  2017-01-18T20:58:58Z  Business Finance     2017-01-18  "
      ]
     },
     "execution_count": 30,
     "metadata": {},
     "output_type": "execute_result"
    }
   ],
   "source": [
    "df.head(1)"
   ]
  },
  {
   "cell_type": "code",
   "execution_count": 32,
   "id": "dcd4c609",
   "metadata": {},
   "outputs": [],
   "source": [
    "df['published_date'] = pd.to_datetime(df['published_date'],format=\"%Y-%m-%d\")"
   ]
  },
  {
   "cell_type": "code",
   "execution_count": 33,
   "id": "35dacbac",
   "metadata": {},
   "outputs": [],
   "source": [
    "df['year'] = df['published_date'].dt.year\n",
    "df['month'] = df['published_date'].dt.month\n",
    "df['day'] = df['published_date'].dt.day"
   ]
  },
  {
   "cell_type": "code",
   "execution_count": 34,
   "id": "9d1ed98a",
   "metadata": {},
   "outputs": [
    {
     "data": {
      "text/html": [
       "<div>\n",
       "<style scoped>\n",
       "    .dataframe tbody tr th:only-of-type {\n",
       "        vertical-align: middle;\n",
       "    }\n",
       "\n",
       "    .dataframe tbody tr th {\n",
       "        vertical-align: top;\n",
       "    }\n",
       "\n",
       "    .dataframe thead th {\n",
       "        text-align: right;\n",
       "    }\n",
       "</style>\n",
       "<table border=\"1\" class=\"dataframe\">\n",
       "  <thead>\n",
       "    <tr style=\"text-align: right;\">\n",
       "      <th></th>\n",
       "      <th>course_id</th>\n",
       "      <th>course_title</th>\n",
       "      <th>url</th>\n",
       "      <th>is_paid</th>\n",
       "      <th>price</th>\n",
       "      <th>num_subscribers</th>\n",
       "      <th>num_reviews</th>\n",
       "      <th>num_lectures</th>\n",
       "      <th>level</th>\n",
       "      <th>content_duration</th>\n",
       "      <th>published_timestamp</th>\n",
       "      <th>subject</th>\n",
       "      <th>published_date</th>\n",
       "      <th>year</th>\n",
       "      <th>month</th>\n",
       "      <th>day</th>\n",
       "    </tr>\n",
       "  </thead>\n",
       "  <tbody>\n",
       "    <tr>\n",
       "      <th>0</th>\n",
       "      <td>1070968</td>\n",
       "      <td>Ultimate Investment Banking Course</td>\n",
       "      <td>https://www.udemy.com/ultimate-investment-bank...</td>\n",
       "      <td>True</td>\n",
       "      <td>200</td>\n",
       "      <td>2147</td>\n",
       "      <td>23</td>\n",
       "      <td>51</td>\n",
       "      <td>All Levels</td>\n",
       "      <td>1.5</td>\n",
       "      <td>2017-01-18T20:58:58Z</td>\n",
       "      <td>Business Finance</td>\n",
       "      <td>2017-01-18</td>\n",
       "      <td>2017</td>\n",
       "      <td>1</td>\n",
       "      <td>18</td>\n",
       "    </tr>\n",
       "  </tbody>\n",
       "</table>\n",
       "</div>"
      ],
      "text/plain": [
       "   course_id                        course_title  \\\n",
       "0    1070968  Ultimate Investment Banking Course   \n",
       "\n",
       "                                                 url  is_paid  price  \\\n",
       "0  https://www.udemy.com/ultimate-investment-bank...     True    200   \n",
       "\n",
       "   num_subscribers  num_reviews  num_lectures       level  content_duration  \\\n",
       "0             2147           23            51  All Levels               1.5   \n",
       "\n",
       "    published_timestamp           subject published_date  year  month  day  \n",
       "0  2017-01-18T20:58:58Z  Business Finance     2017-01-18  2017      1   18  "
      ]
     },
     "execution_count": 34,
     "metadata": {},
     "output_type": "execute_result"
    }
   ],
   "source": [
    "df.head(1)"
   ]
  },
  {
   "cell_type": "code",
   "execution_count": null,
   "id": "12c56b5b",
   "metadata": {},
   "outputs": [],
   "source": []
  },
  {
   "cell_type": "markdown",
   "id": "cdd0499d",
   "metadata": {},
   "source": [
    "+ Subjects/Category\n",
    "\t- What is the distribution of subjects\n",
    "\t- How many courses per subject\n",
    "\t- Distribution of subjects per year\n",
    "\t- How many people purchase a particular subject\n",
    "\t- Which subject is the most popular"
   ]
  },
  {
   "cell_type": "code",
   "execution_count": 12,
   "id": "37748d23",
   "metadata": {},
   "outputs": [
    {
     "data": {
      "text/plain": [
       "array(['Business Finance', 'Graphic Design', 'Musical Instruments',\n",
       "       'Web Development'], dtype=object)"
      ]
     },
     "execution_count": 12,
     "metadata": {},
     "output_type": "execute_result"
    }
   ],
   "source": [
    "##What is the distribution of subjects\n",
    "df.subject.unique()"
   ]
  },
  {
   "cell_type": "code",
   "execution_count": 15,
   "id": "d5df0d78",
   "metadata": {},
   "outputs": [
    {
     "data": {
      "text/plain": [
       "Index(['course_id', 'course_title', 'url', 'is_paid', 'price',\n",
       "       'num_subscribers', 'num_reviews', 'num_lectures', 'level',\n",
       "       'content_duration', 'published_timestamp', 'subject'],\n",
       "      dtype='object')"
      ]
     },
     "execution_count": 15,
     "metadata": {},
     "output_type": "execute_result"
    }
   ],
   "source": [
    "df.columns"
   ]
  },
  {
   "cell_type": "code",
   "execution_count": 13,
   "id": "0695ba42",
   "metadata": {},
   "outputs": [
    {
     "data": {
      "text/plain": [
       "Web Development        1200\n",
       "Business Finance       1195\n",
       "Musical Instruments     680\n",
       "Graphic Design          603\n",
       "Name: subject, dtype: int64"
      ]
     },
     "execution_count": 13,
     "metadata": {},
     "output_type": "execute_result"
    }
   ],
   "source": [
    "##How many courses per subject\n",
    "df.subject.value_counts()"
   ]
  },
  {
   "cell_type": "code",
   "execution_count": 16,
   "id": "0a34f9bd",
   "metadata": {},
   "outputs": [
    {
     "data": {
      "text/plain": [
       "<AxesSubplot:>"
      ]
     },
     "execution_count": 16,
     "metadata": {},
     "output_type": "execute_result"
    },
    {
     "data": {
      "image/png": "[encoded data removed]",
      "text/plain": [
       "<Figure size 432x288 with 1 Axes>"
      ]
     },
     "metadata": {
      "needs_background": "light"
     },
     "output_type": "display_data"
    }
   ],
   "source": [
    "df.subject.value_counts().plot(kind='bar')"
   ]
  },
  {
   "cell_type": "code",
   "execution_count": 17,
   "id": "4a137dc5",
   "metadata": {},
   "outputs": [
    {
     "data": {
      "text/plain": [
       "<AxesSubplot:ylabel='subject'>"
      ]
     },
     "execution_count": 17,
     "metadata": {},
     "output_type": "execute_result"
    },
    {
     "data": {
      "image/png": "[encoded data removed]",
      "text/plain": [
       "<Figure size 432x288 with 1 Axes>"
      ]
     },
     "metadata": {},
     "output_type": "display_data"
    }
   ],
   "source": [
    "df.subject.value_counts().plot(kind='pie')"
   ]
  },
  {
   "cell_type": "code",
   "execution_count": 48,
   "id": "d8af8301",
   "metadata": {},
   "outputs": [
    {
     "data": {
      "text/plain": [
       "year  subject            \n",
       "2011  Web Development          5\n",
       "2012  Web Development         19\n",
       "      Graphic Design          10\n",
       "      Musical Instruments     10\n",
       "      Business Finance         6\n",
       "2013  Business Finance        84\n",
       "      Web Development         56\n",
       "      Musical Instruments     39\n",
       "      Graphic Design          23\n",
       "2014  Business Finance       192\n",
       "      Musical Instruments    120\n",
       "      Web Development        113\n",
       "      Graphic Design          66\n",
       "2015  Business Finance       339\n",
       "      Web Development        336\n",
       "      Musical Instruments    171\n",
       "      Graphic Design         168\n",
       "2016  Web Development        448\n",
       "      Business Finance       349\n",
       "      Musical Instruments    228\n",
       "      Graphic Design         181\n",
       "2017  Business Finance       225\n",
       "      Web Development        223\n",
       "      Graphic Design         155\n",
       "      Musical Instruments    112\n",
       "Name: subject, dtype: int64"
      ]
     },
     "execution_count": 48,
     "metadata": {},
     "output_type": "execute_result"
    }
   ],
   "source": [
    "#Distribution of subjects per year\n",
    "df.groupby('year')['subject'].value_counts()"
   ]
  },
  {
   "cell_type": "code",
   "execution_count": 55,
   "id": "4a22910a",
   "metadata": {},
   "outputs": [
    {
     "data": {
      "text/plain": [
       "year  subject            \n",
       "2011  Web Development         119028\n",
       "2012  Business Finance          3620\n",
       "      Graphic Design          100649\n",
       "      Musical Instruments     133635\n",
       "      Web Development         317435\n",
       "2013  Business Finance        311664\n",
       "      Graphic Design           50133\n",
       "      Musical Instruments     150224\n",
       "      Web Development        1211417\n",
       "2014  Business Finance        494623\n",
       "      Graphic Design          174582\n",
       "      Musical Instruments     156152\n",
       "      Web Development        1105049\n",
       "2015  Business Finance        501858\n",
       "      Graphic Design          352856\n",
       "      Musical Instruments     190368\n",
       "      Web Development        2430242\n",
       "2016  Business Finance        426647\n",
       "      Graphic Design          229587\n",
       "      Musical Instruments     148748\n",
       "      Web Development        2161662\n",
       "2017  Business Finance        130299\n",
       "      Graphic Design          155341\n",
       "      Musical Instruments      67562\n",
       "      Web Development         635739\n",
       "Name: num_subscribers, dtype: int64"
      ]
     },
     "execution_count": 55,
     "metadata": {},
     "output_type": "execute_result"
    }
   ],
   "source": [
    "#How many people purchase a particular subject per year\n",
    "df.groupby(by=['year','subject'])['num_subscribers'].sum()"
   ]
  },
  {
   "cell_type": "code",
   "execution_count": 56,
   "id": "9f4bd17c",
   "metadata": {},
   "outputs": [
    {
     "data": {
      "text/plain": [
       "subject\n",
       "Business Finance       1868711\n",
       "Graphic Design         1063148\n",
       "Musical Instruments     846689\n",
       "Web Development        7980572\n",
       "Name: num_subscribers, dtype: int64"
      ]
     },
     "execution_count": 56,
     "metadata": {},
     "output_type": "execute_result"
    }
   ],
   "source": [
    "#How many people purchase a particular subject\n",
    "df.groupby(by=['subject'])['num_subscribers'].sum()"
   ]
  },
  {
   "cell_type": "code",
   "execution_count": 70,
   "id": "e0dc550d",
   "metadata": {},
   "outputs": [
    {
     "data": {
      "image/png": "[encoded data removed]",
      "text/plain": [
       "<Figure size 1440x720 with 1 Axes>"
      ]
     },
     "metadata": {
      "needs_background": "light"
     },
     "output_type": "display_data"
    }
   ],
   "source": [
    "#Which subject is the most popular\n",
    "plt.figure(figsize=(20,10))\n",
    "plt.title('Number of subscribers per course through the years')\n",
    "sns.lineplot(data=df,x='year',y='num_subscribers',hue='subject')\n",
    "plt.show()"
   ]
  },
  {
   "cell_type": "code",
   "execution_count": 71,
   "id": "e0277439",
   "metadata": {},
   "outputs": [
    {
     "data": {
      "image/png": "[encoded data removed]",
      "text/plain": [
       "<Figure size 1440x720 with 1 Axes>"
      ]
     },
     "metadata": {
      "needs_background": "light"
     },
     "output_type": "display_data"
    }
   ],
   "source": [
    "#Which subject is the most popular\n",
    "plt.figure(figsize=(20,10))\n",
    "plt.title('Number of subscribers per course through the years')\n",
    "sns.barplot(data=df,x='year',y='num_subscribers',hue='subject')\n",
    "plt.show()"
   ]
  },
  {
   "cell_type": "markdown",
   "id": "080d865e",
   "metadata": {},
   "source": [
    "Even though the subscriber count has decreased over years, Web Development course seems to be the most popular."
   ]
  },
  {
   "cell_type": "markdown",
   "id": "322ca70e",
   "metadata": {},
   "source": [
    "+ Published Year\n",
    "\t- Number of courses per year\n",
    "\t- Which year has the highest number of courses\n",
    "\t- What is the trend of courses per year"
   ]
  },
  {
   "cell_type": "code",
   "execution_count": 65,
   "id": "ae643377",
   "metadata": {},
   "outputs": [
    {
     "data": {
      "text/plain": [
       "year\n",
       "2011       5\n",
       "2012      45\n",
       "2013     202\n",
       "2014     491\n",
       "2015    1014\n",
       "2016    1206\n",
       "2017     715\n",
       "Name: course_id, dtype: int64"
      ]
     },
     "execution_count": 65,
     "metadata": {},
     "output_type": "execute_result"
    }
   ],
   "source": [
    "#Number of courses per year\n",
    "df.groupby('year')['course_id'].count()"
   ]
  },
  {
   "cell_type": "markdown",
   "id": "17883b90",
   "metadata": {},
   "source": [
    "#Which year has the highest number of courses\n",
    ":: 2016 has the highest number of courses created"
   ]
  },
  {
   "cell_type": "code",
   "execution_count": 66,
   "id": "0182bcf8",
   "metadata": {},
   "outputs": [
    {
     "data": {
      "text/plain": [
       "<AxesSubplot:xlabel='year'>"
      ]
     },
     "execution_count": 66,
     "metadata": {},
     "output_type": "execute_result"
    },
    {
     "data": {
      "image/png": "[encoded data removed]",
      "text/plain": [
       "<Figure size 432x288 with 1 Axes>"
      ]
     },
     "metadata": {
      "needs_background": "light"
     },
     "output_type": "display_data"
    }
   ],
   "source": [
    "#What is the trend of courses per year\n",
    "df.groupby('year')['course_id'].count().plot(kind='line')"
   ]
  },
  {
   "cell_type": "markdown",
   "id": "2cd65de0",
   "metadata": {},
   "source": [
    "+ Levels\n",
    "\t- How many levels do we have\n",
    "\t- What is the distribution of courses per levels\n",
    "\t- Which subject have the highest levels\n",
    "\t- How many subscribers per levels\n",
    "\t- How many courses per levels"
   ]
  },
  {
   "cell_type": "code",
   "execution_count": 73,
   "id": "4deee286",
   "metadata": {},
   "outputs": [
    {
     "data": {
      "text/plain": [
       "Index(['course_id', 'course_title', 'url', 'is_paid', 'price',\n",
       "       'num_subscribers', 'num_reviews', 'num_lectures', 'level',\n",
       "       'content_duration', 'published_timestamp', 'subject', 'published_date',\n",
       "       'year', 'month', 'day'],\n",
       "      dtype='object')"
      ]
     },
     "execution_count": 73,
     "metadata": {},
     "output_type": "execute_result"
    }
   ],
   "source": [
    "df.columns"
   ]
  },
  {
   "cell_type": "code",
   "execution_count": 75,
   "id": "d356d431",
   "metadata": {},
   "outputs": [
    {
     "data": {
      "text/plain": [
       "array(['All Levels', 'Intermediate Level', 'Beginner Level',\n",
       "       'Expert Level'], dtype=object)"
      ]
     },
     "execution_count": 75,
     "metadata": {},
     "output_type": "execute_result"
    }
   ],
   "source": [
    "#How many levels do we have\n",
    "df.level.unique()"
   ]
  },
  {
   "cell_type": "code",
   "execution_count": 74,
   "id": "5c390607",
   "metadata": {},
   "outputs": [
    {
     "data": {
      "text/plain": [
       "All Levels            1929\n",
       "Beginner Level        1270\n",
       "Intermediate Level     421\n",
       "Expert Level            58\n",
       "Name: level, dtype: int64"
      ]
     },
     "execution_count": 74,
     "metadata": {},
     "output_type": "execute_result"
    }
   ],
   "source": [
    "#What is the distribution of courses per levels\n",
    "df.level.value_counts()"
   ]
  },
  {
   "cell_type": "code",
   "execution_count": 95,
   "id": "f855d6b9",
   "metadata": {},
   "outputs": [
    {
     "data": {
      "text/plain": [
       "subject              level             \n",
       "Business Finance     All Levels            696\n",
       "                     Beginner Level        340\n",
       "                     Expert Level           31\n",
       "                     Intermediate Level    128\n",
       "Graphic Design       All Levels            298\n",
       "                     Beginner Level        243\n",
       "                     Expert Level            5\n",
       "                     Intermediate Level     57\n",
       "Musical Instruments  All Levels            276\n",
       "                     Beginner Level        296\n",
       "                     Expert Level            7\n",
       "                     Intermediate Level    101\n",
       "Web Development      All Levels            659\n",
       "                     Beginner Level        391\n",
       "                     Expert Level           15\n",
       "                     Intermediate Level    135\n",
       "Name: course_id, dtype: int64"
      ]
     },
     "execution_count": 95,
     "metadata": {},
     "output_type": "execute_result"
    }
   ],
   "source": [
    "#Which subject have the highest levels\n",
    "df.groupby(['subject','level'])['course_id'].count()"
   ]
  },
  {
   "cell_type": "code",
   "execution_count": 89,
   "id": "5e41fbee",
   "metadata": {},
   "outputs": [
    {
     "data": {
      "image/png": "[encoded data removed]",
      "text/plain": [
       "<Figure size 1440x720 with 1 Axes>"
      ]
     },
     "metadata": {
      "needs_background": "light"
     },
     "output_type": "display_data"
    }
   ],
   "source": [
    "plt.figure(figsize=(20,10))\n",
    "plt.title(\"Distribution of levels across subjects\")\n",
    "sns.barplot(data=df,x='level',y='course_id',hue='subject')\n",
    "plt.show()"
   ]
  },
  {
   "cell_type": "markdown",
   "id": "b64f7e3b",
   "metadata": {},
   "source": [
    "Maximum number of courses are there for Graphic Design course at expert level. Rest all subject-Level combinations have overall equal distribution"
   ]
  },
  {
   "cell_type": "code",
   "execution_count": 96,
   "id": "6a134cc8",
   "metadata": {},
   "outputs": [
    {
     "data": {
      "image/png": "[encoded data removed]",
      "text/plain": [
       "<Figure size 1440x720 with 1 Axes>"
      ]
     },
     "metadata": {
      "needs_background": "light"
     },
     "output_type": "display_data"
    }
   ],
   "source": [
    "plt.figure(figsize=(20,10))\n",
    "plt.title(\"Distribution of levels across subjects\")\n",
    "sns.barplot(data=df,x='level',y='num_subscribers',hue='subject')\n",
    "plt.show()"
   ]
  },
  {
   "cell_type": "markdown",
   "id": "cb84f157",
   "metadata": {},
   "source": [
    "Maximum people have subscribed to Web development course at Beginner Level and All Level.\n",
    "##Suggestion: Web Development Beginner courses can be launched by other companies/Ed_techs"
   ]
  },
  {
   "cell_type": "code",
   "execution_count": 99,
   "id": "2f5b5ff8",
   "metadata": {},
   "outputs": [
    {
     "data": {
      "text/plain": [
       "<AxesSubplot:xlabel='level'>"
      ]
     },
     "execution_count": 99,
     "metadata": {},
     "output_type": "execute_result"
    },
    {
     "data": {
      "image/png": "[encoded data removed]",
      "text/plain": [
       "<Figure size 432x288 with 1 Axes>"
      ]
     },
     "metadata": {
      "needs_background": "light"
     },
     "output_type": "display_data"
    }
   ],
   "source": [
    "#How many courses per levels\n",
    "df.groupby('level')['course_id'].count().plot(kind='bar')"
   ]
  },
  {
   "cell_type": "markdown",
   "id": "24b2b7f4",
   "metadata": {},
   "source": [
    "+ Duration of Course\n",
    "\t- Which courses have the highest duration (paid or not)\n",
    "\t- Which courses have higher duration\n",
    "\t- Duration vs number of subscribers"
   ]
  },
  {
   "cell_type": "code",
   "execution_count": 100,
   "id": "9a097d54",
   "metadata": {},
   "outputs": [
    {
     "data": {
      "text/plain": [
       "Index(['course_id', 'course_title', 'url', 'is_paid', 'price',\n",
       "       'num_subscribers', 'num_reviews', 'num_lectures', 'level',\n",
       "       'content_duration', 'published_timestamp', 'subject', 'published_date',\n",
       "       'year', 'month', 'day'],\n",
       "      dtype='object')"
      ]
     },
     "execution_count": 100,
     "metadata": {},
     "output_type": "execute_result"
    }
   ],
   "source": [
    "df.columns"
   ]
  },
  {
   "cell_type": "code",
   "execution_count": 109,
   "id": "72be7d6f",
   "metadata": {},
   "outputs": [
    {
     "data": {
      "text/plain": [
       "subject              is_paid\n",
       "Business Finance     False       206.266667\n",
       "                     True       4039.566667\n",
       "Graphic Design       False        67.116667\n",
       "                     True       2091.950000\n",
       "Musical Instruments  False        71.166667\n",
       "                     True       1869.816667\n",
       "Web Development      False       340.783333\n",
       "                     True       6372.966667\n",
       "Name: content_duration, dtype: float64"
      ]
     },
     "execution_count": 109,
     "metadata": {},
     "output_type": "execute_result"
    }
   ],
   "source": [
    "#Which courses have the highest duration (paid or not)\n",
    "df.groupby(['subject','is_paid'])['content_duration'].sum()"
   ]
  },
  {
   "cell_type": "code",
   "execution_count": 111,
   "id": "2717ca36",
   "metadata": {},
   "outputs": [
    {
     "data": {
      "text/plain": [
       "subject\n",
       "Business Finance       4245.833333\n",
       "Graphic Design         2159.066667\n",
       "Musical Instruments    1940.983333\n",
       "Web Development        6713.750000\n",
       "Name: content_duration, dtype: float64"
      ]
     },
     "execution_count": 111,
     "metadata": {},
     "output_type": "execute_result"
    }
   ],
   "source": [
    "#Which courses have higher duration\n",
    "df.groupby(['subject'])['content_duration'].sum()"
   ]
  },
  {
   "cell_type": "code",
   "execution_count": 114,
   "id": "a28c25f4",
   "metadata": {},
   "outputs": [
    {
     "data": {
      "text/plain": [
       "<AxesSubplot:xlabel='content_duration', ylabel='num_subscribers'>"
      ]
     },
     "execution_count": 114,
     "metadata": {},
     "output_type": "execute_result"
    },
    {
     "data": {
      "image/png": "[encoded data removed]",
      "text/plain": [
       "<Figure size 432x288 with 1 Axes>"
      ]
     },
     "metadata": {
      "needs_background": "light"
     },
     "output_type": "display_data"
    }
   ],
   "source": [
    "#Duration vs number of subscribers\n",
    "sns.scatterplot(data=df,x='content_duration',y='num_subscribers')"
   ]
  },
  {
   "cell_type": "markdown",
   "id": "815746aa",
   "metadata": {},
   "source": [
    "From above scatterplot we can infer that majority of subscribers prefer the total course duration to be less than 20-25 hrs"
   ]
  },
  {
   "cell_type": "markdown",
   "id": "01342f59",
   "metadata": {},
   "source": [
    "+ Subscribers\n",
    "\t- Which course have the highest number of subscribers\n",
    "\t- Average number of subscribers\n",
    "\t- Number of subscribers per Subject\n",
    "\t- Number of subscribers per year"
   ]
  },
  {
   "cell_type": "code",
   "execution_count": 117,
   "id": "a5818d63",
   "metadata": {},
   "outputs": [
    {
     "data": {
      "text/plain": [
       "Index(['course_id', 'course_title', 'url', 'is_paid', 'price',\n",
       "       'num_subscribers', 'num_reviews', 'num_lectures', 'level',\n",
       "       'content_duration', 'published_timestamp', 'subject', 'published_date',\n",
       "       'year', 'month', 'day'],\n",
       "      dtype='object')"
      ]
     },
     "execution_count": 117,
     "metadata": {},
     "output_type": "execute_result"
    }
   ],
   "source": [
    "df.columns"
   ]
  },
  {
   "cell_type": "code",
   "execution_count": 118,
   "id": "46fc4e75",
   "metadata": {},
   "outputs": [
    {
     "data": {
      "text/plain": [
       "subject\n",
       "Business Finance       1868711\n",
       "Graphic Design         1063148\n",
       "Musical Instruments     846689\n",
       "Web Development        7980572\n",
       "Name: num_subscribers, dtype: int64"
      ]
     },
     "execution_count": 118,
     "metadata": {},
     "output_type": "execute_result"
    }
   ],
   "source": [
    "#Which course have the highest number of subscribers\n",
    "#Number of subscribers per Subject\n",
    "df.groupby('subject')['num_subscribers'].sum()"
   ]
  },
  {
   "cell_type": "code",
   "execution_count": 125,
   "id": "5f56130c",
   "metadata": {},
   "outputs": [
    {
     "data": {
      "text/plain": [
       "Text(0.5, 1.0, 'Distribution of subscribers on basis of subjects')"
      ]
     },
     "execution_count": 125,
     "metadata": {},
     "output_type": "execute_result"
    },
    {
     "data": {
      "image/png": "[encoded data removed]",
      "text/plain": [
       "<Figure size 432x288 with 1 Axes>"
      ]
     },
     "metadata": {},
     "output_type": "display_data"
    }
   ],
   "source": [
    "df.groupby('subject')['num_subscribers'].sum().plot(kind='pie')\n",
    "plt.title(\"Distribution of subscribers on basis of subjects\")"
   ]
  },
  {
   "cell_type": "code",
   "execution_count": 120,
   "id": "7321f360",
   "metadata": {},
   "outputs": [
    {
     "data": {
      "text/plain": [
       "subject\n",
       "Business Finance       1563.774895\n",
       "Graphic Design         1763.097844\n",
       "Musical Instruments    1245.130882\n",
       "Web Development        6650.476667\n",
       "Name: num_subscribers, dtype: float64"
      ]
     },
     "execution_count": 120,
     "metadata": {},
     "output_type": "execute_result"
    }
   ],
   "source": [
    "#Average number of subscribers\n",
    "df.groupby('subject')['num_subscribers'].mean()"
   ]
  },
  {
   "cell_type": "code",
   "execution_count": 124,
   "id": "3dfe2244",
   "metadata": {},
   "outputs": [
    {
     "data": {
      "text/plain": [
       "Text(0.5, 1.0, 'mean number of subscriber')"
      ]
     },
     "execution_count": 124,
     "metadata": {},
     "output_type": "execute_result"
    },
    {
     "data": {
      "image/png": "[encoded data removed]",
      "text/plain": [
       "<Figure size 432x288 with 1 Axes>"
      ]
     },
     "metadata": {
      "needs_background": "light"
     },
     "output_type": "display_data"
    }
   ],
   "source": [
    "df.groupby('subject')['num_subscribers'].mean().plot(kind='bar')\n",
    "plt.title(\"mean number of subscriber\")"
   ]
  },
  {
   "cell_type": "code",
   "execution_count": 126,
   "id": "c0d9d2a9",
   "metadata": {},
   "outputs": [
    {
     "data": {
      "text/plain": [
       "year\n",
       "2011     119028\n",
       "2012     555339\n",
       "2013    1723438\n",
       "2014    1930406\n",
       "2015    3475324\n",
       "2016    2966644\n",
       "2017     988941\n",
       "Name: num_subscribers, dtype: int64"
      ]
     },
     "execution_count": 126,
     "metadata": {},
     "output_type": "execute_result"
    }
   ],
   "source": [
    "#Number of subscribers per year\n",
    "df.groupby('year')['num_subscribers'].sum()"
   ]
  },
  {
   "cell_type": "code",
   "execution_count": 127,
   "id": "0a9bf08e",
   "metadata": {},
   "outputs": [
    {
     "data": {
      "text/plain": [
       "<AxesSubplot:title={'center':'Number of subscribers per year'}, xlabel='year'>"
      ]
     },
     "execution_count": 127,
     "metadata": {},
     "output_type": "execute_result"
    },
    {
     "data": {
      "image/png": "[encoded data removed]",
      "text/plain": [
       "<Figure size 432x288 with 1 Axes>"
      ]
     },
     "metadata": {
      "needs_background": "light"
     },
     "output_type": "display_data"
    }
   ],
   "source": [
    "plt.title(\"Number of subscribers per year\")\n",
    "df.groupby('year')['num_subscribers'].sum().plot(kind='bar')"
   ]
  },
  {
   "cell_type": "markdown",
   "id": "658cf9cc",
   "metadata": {},
   "source": [
    "+ Price\n",
    "\t- What is the average price of a course\n",
    "\t- What is the min/max price\n",
    "\t- How much does Udemy earn\n",
    "\t- The most profitable courses"
   ]
  },
  {
   "cell_type": "code",
   "execution_count": 130,
   "id": "846f7645",
   "metadata": {},
   "outputs": [
    {
     "data": {
      "text/plain": [
       "subject\n",
       "Business Finance       68.552301\n",
       "Graphic Design         57.827529\n",
       "Musical Instruments    49.558824\n",
       "Web Development        77.033333\n",
       "Name: price, dtype: float64"
      ]
     },
     "execution_count": 130,
     "metadata": {},
     "output_type": "execute_result"
    }
   ],
   "source": [
    "#What is the average price of a course\n",
    "df.groupby('subject')['price'].mean()"
   ]
  },
  {
   "cell_type": "code",
   "execution_count": 131,
   "id": "a3676c97",
   "metadata": {},
   "outputs": [
    {
     "data": {
      "text/plain": [
       "subject\n",
       "Business Finance       200\n",
       "Graphic Design         200\n",
       "Musical Instruments    200\n",
       "Web Development        200\n",
       "Name: price, dtype: int64"
      ]
     },
     "execution_count": 131,
     "metadata": {},
     "output_type": "execute_result"
    }
   ],
   "source": [
    "#What is the min/max price\n",
    "df.groupby('subject')['price'].max()"
   ]
  },
  {
   "cell_type": "markdown",
   "id": "3e30b20d",
   "metadata": {},
   "source": [
    "Looks like Udemy has capped the max price at 200inr"
   ]
  },
  {
   "cell_type": "code",
   "execution_count": 132,
   "id": "161685e2",
   "metadata": {},
   "outputs": [
    {
     "data": {
      "text/plain": [
       "subject\n",
       "Business Finance       0\n",
       "Graphic Design         0\n",
       "Musical Instruments    0\n",
       "Web Development        0\n",
       "Name: price, dtype: int64"
      ]
     },
     "execution_count": 132,
     "metadata": {},
     "output_type": "execute_result"
    }
   ],
   "source": [
    "df.groupby('subject')['price'].min()"
   ]
  },
  {
   "cell_type": "markdown",
   "id": "f73d91c7",
   "metadata": {},
   "source": [
    "Indicates that courses are free."
   ]
  },
  {
   "cell_type": "code",
   "execution_count": 136,
   "id": "29396aa5",
   "metadata": {},
   "outputs": [],
   "source": [
    "#How much does Udemy earn\n",
    "df['Earnings']=df['num_subscribers']*df['price']"
   ]
  },
  {
   "cell_type": "code",
   "execution_count": 138,
   "id": "b0a02fb3",
   "metadata": {},
   "outputs": [
    {
     "data": {
      "text/plain": [
       "884921315"
      ]
     },
     "execution_count": 138,
     "metadata": {},
     "output_type": "execute_result"
    }
   ],
   "source": [
    "#88.5 crore\n",
    "df.Earnings.sum()"
   ]
  },
  {
   "cell_type": "code",
   "execution_count": 140,
   "id": "98085878",
   "metadata": {},
   "outputs": [
    {
     "data": {
      "text/plain": [
       "24316800"
      ]
     },
     "execution_count": 140,
     "metadata": {},
     "output_type": "execute_result"
    }
   ],
   "source": [
    "df.Earnings.max()"
   ]
  },
  {
   "cell_type": "code",
   "execution_count": 153,
   "id": "c4e18dc1",
   "metadata": {},
   "outputs": [
    {
     "data": {
      "text/html": [
       "<div>\n",
       "<style scoped>\n",
       "    .dataframe tbody tr th:only-of-type {\n",
       "        vertical-align: middle;\n",
       "    }\n",
       "\n",
       "    .dataframe tbody tr th {\n",
       "        vertical-align: top;\n",
       "    }\n",
       "\n",
       "    .dataframe thead th {\n",
       "        text-align: right;\n",
       "    }\n",
       "</style>\n",
       "<table border=\"1\" class=\"dataframe\">\n",
       "  <thead>\n",
       "    <tr style=\"text-align: right;\">\n",
       "      <th></th>\n",
       "      <th>course_id</th>\n",
       "      <th>course_title</th>\n",
       "      <th>url</th>\n",
       "      <th>is_paid</th>\n",
       "      <th>price</th>\n",
       "      <th>num_subscribers</th>\n",
       "      <th>num_reviews</th>\n",
       "      <th>num_lectures</th>\n",
       "      <th>level</th>\n",
       "      <th>content_duration</th>\n",
       "      <th>published_timestamp</th>\n",
       "      <th>subject</th>\n",
       "      <th>published_date</th>\n",
       "      <th>year</th>\n",
       "      <th>month</th>\n",
       "      <th>day</th>\n",
       "      <th>Earnings</th>\n",
       "    </tr>\n",
       "  </thead>\n",
       "  <tbody>\n",
       "    <tr>\n",
       "      <th>3230</th>\n",
       "      <td>625204</td>\n",
       "      <td>The Web Developer Bootcamp</td>\n",
       "      <td>https://www.udemy.com/the-web-developer-bootcamp/</td>\n",
       "      <td>True</td>\n",
       "      <td>200</td>\n",
       "      <td>121584</td>\n",
       "      <td>27445</td>\n",
       "      <td>342</td>\n",
       "      <td>All Levels</td>\n",
       "      <td>43.0</td>\n",
       "      <td>2015-11-02T21:13:27Z</td>\n",
       "      <td>Web Development</td>\n",
       "      <td>2015-11-02</td>\n",
       "      <td>2015</td>\n",
       "      <td>11</td>\n",
       "      <td>2</td>\n",
       "      <td>24316800</td>\n",
       "    </tr>\n",
       "  </tbody>\n",
       "</table>\n",
       "</div>"
      ],
      "text/plain": [
       "      course_id                course_title  \\\n",
       "3230     625204  The Web Developer Bootcamp   \n",
       "\n",
       "                                                    url  is_paid  price  \\\n",
       "3230  https://www.udemy.com/the-web-developer-bootcamp/     True    200   \n",
       "\n",
       "      num_subscribers  num_reviews  num_lectures       level  \\\n",
       "3230           121584        27445           342  All Levels   \n",
       "\n",
       "      content_duration   published_timestamp          subject published_date  \\\n",
       "3230              43.0  2015-11-02T21:13:27Z  Web Development     2015-11-02   \n",
       "\n",
       "      year  month  day  Earnings  \n",
       "3230  2015     11    2  24316800  "
      ]
     },
     "execution_count": 153,
     "metadata": {},
     "output_type": "execute_result"
    }
   ],
   "source": [
    "#The most profitable courses\n",
    "df.loc[df.Earnings==df.Earnings.max()]"
   ]
  },
  {
   "cell_type": "code",
   "execution_count": 154,
   "id": "d10d8f9d",
   "metadata": {},
   "outputs": [
    {
     "data": {
      "text/plain": [
       "3230    The Web Developer Bootcamp\n",
       "Name: course_title, dtype: object"
      ]
     },
     "execution_count": 154,
     "metadata": {},
     "output_type": "execute_result"
    }
   ],
   "source": [
    "#course name\n",
    "df.loc[df.Earnings==df.Earnings.max()].course_title"
   ]
  },
  {
   "cell_type": "markdown",
   "id": "fd01bf12",
   "metadata": {},
   "source": [
    "+ Correlation Questions\n",
    "\t- Does number of subscribers depend on\n",
    "\t- number of reviews\n",
    "\t- price\n",
    "\t- number of lectures\n",
    "\t- content duration"
   ]
  },
  {
   "cell_type": "code",
   "execution_count": 164,
   "id": "d8bcbd63",
   "metadata": {},
   "outputs": [
    {
     "data": {
      "text/html": [
       "<div>\n",
       "<style scoped>\n",
       "    .dataframe tbody tr th:only-of-type {\n",
       "        vertical-align: middle;\n",
       "    }\n",
       "\n",
       "    .dataframe tbody tr th {\n",
       "        vertical-align: top;\n",
       "    }\n",
       "\n",
       "    .dataframe thead th {\n",
       "        text-align: right;\n",
       "    }\n",
       "</style>\n",
       "<table border=\"1\" class=\"dataframe\">\n",
       "  <thead>\n",
       "    <tr style=\"text-align: right;\">\n",
       "      <th></th>\n",
       "      <th>course_id</th>\n",
       "      <th>is_paid</th>\n",
       "      <th>price</th>\n",
       "      <th>num_subscribers</th>\n",
       "      <th>num_reviews</th>\n",
       "      <th>num_lectures</th>\n",
       "      <th>content_duration</th>\n",
       "      <th>year</th>\n",
       "      <th>month</th>\n",
       "      <th>day</th>\n",
       "      <th>Earnings</th>\n",
       "    </tr>\n",
       "  </thead>\n",
       "  <tbody>\n",
       "    <tr>\n",
       "      <th>course_id</th>\n",
       "      <td>1.000000</td>\n",
       "      <td>-0.013679</td>\n",
       "      <td>0.142319</td>\n",
       "      <td>-0.167856</td>\n",
       "      <td>-0.058550</td>\n",
       "      <td>-0.024646</td>\n",
       "      <td>-0.057223</td>\n",
       "      <td>0.933151</td>\n",
       "      <td>-0.067373</td>\n",
       "      <td>0.015786</td>\n",
       "      <td>-0.053973</td>\n",
       "    </tr>\n",
       "    <tr>\n",
       "      <th>is_paid</th>\n",
       "      <td>-0.013679</td>\n",
       "      <td>1.000000</td>\n",
       "      <td>0.328513</td>\n",
       "      <td>-0.266159</td>\n",
       "      <td>-0.087471</td>\n",
       "      <td>0.112574</td>\n",
       "      <td>0.094417</td>\n",
       "      <td>-0.017609</td>\n",
       "      <td>0.034718</td>\n",
       "      <td>-0.018876</td>\n",
       "      <td>0.072902</td>\n",
       "    </tr>\n",
       "    <tr>\n",
       "      <th>price</th>\n",
       "      <td>0.142319</td>\n",
       "      <td>0.328513</td>\n",
       "      <td>1.000000</td>\n",
       "      <td>0.050769</td>\n",
       "      <td>0.113696</td>\n",
       "      <td>0.330160</td>\n",
       "      <td>0.293450</td>\n",
       "      <td>0.132990</td>\n",
       "      <td>0.038389</td>\n",
       "      <td>0.012959</td>\n",
       "      <td>0.346617</td>\n",
       "    </tr>\n",
       "    <tr>\n",
       "      <th>num_subscribers</th>\n",
       "      <td>-0.167856</td>\n",
       "      <td>-0.266159</td>\n",
       "      <td>0.050769</td>\n",
       "      <td>1.000000</td>\n",
       "      <td>0.649946</td>\n",
       "      <td>0.157746</td>\n",
       "      <td>0.161839</td>\n",
       "      <td>-0.184574</td>\n",
       "      <td>0.015244</td>\n",
       "      <td>0.006244</td>\n",
       "      <td>0.557175</td>\n",
       "    </tr>\n",
       "    <tr>\n",
       "      <th>num_reviews</th>\n",
       "      <td>-0.058550</td>\n",
       "      <td>-0.087471</td>\n",
       "      <td>0.113696</td>\n",
       "      <td>0.649946</td>\n",
       "      <td>1.000000</td>\n",
       "      <td>0.243029</td>\n",
       "      <td>0.228889</td>\n",
       "      <td>-0.053318</td>\n",
       "      <td>0.006853</td>\n",
       "      <td>-0.003572</td>\n",
       "      <td>0.769948</td>\n",
       "    </tr>\n",
       "    <tr>\n",
       "      <th>num_lectures</th>\n",
       "      <td>-0.024646</td>\n",
       "      <td>0.112574</td>\n",
       "      <td>0.330160</td>\n",
       "      <td>0.157746</td>\n",
       "      <td>0.243029</td>\n",
       "      <td>1.000000</td>\n",
       "      <td>0.801647</td>\n",
       "      <td>-0.025085</td>\n",
       "      <td>0.031808</td>\n",
       "      <td>-0.006121</td>\n",
       "      <td>0.321816</td>\n",
       "    </tr>\n",
       "    <tr>\n",
       "      <th>content_duration</th>\n",
       "      <td>-0.057223</td>\n",
       "      <td>0.094417</td>\n",
       "      <td>0.293450</td>\n",
       "      <td>0.161839</td>\n",
       "      <td>0.228889</td>\n",
       "      <td>0.801647</td>\n",
       "      <td>1.000000</td>\n",
       "      <td>-0.058752</td>\n",
       "      <td>0.020887</td>\n",
       "      <td>-0.002267</td>\n",
       "      <td>0.296736</td>\n",
       "    </tr>\n",
       "    <tr>\n",
       "      <th>year</th>\n",
       "      <td>0.933151</td>\n",
       "      <td>-0.017609</td>\n",
       "      <td>0.132990</td>\n",
       "      <td>-0.184574</td>\n",
       "      <td>-0.053318</td>\n",
       "      <td>-0.025085</td>\n",
       "      <td>-0.058752</td>\n",
       "      <td>1.000000</td>\n",
       "      <td>-0.288077</td>\n",
       "      <td>-0.018348</td>\n",
       "      <td>-0.059011</td>\n",
       "    </tr>\n",
       "    <tr>\n",
       "      <th>month</th>\n",
       "      <td>-0.067373</td>\n",
       "      <td>0.034718</td>\n",
       "      <td>0.038389</td>\n",
       "      <td>0.015244</td>\n",
       "      <td>0.006853</td>\n",
       "      <td>0.031808</td>\n",
       "      <td>0.020887</td>\n",
       "      <td>-0.288077</td>\n",
       "      <td>1.000000</td>\n",
       "      <td>0.015318</td>\n",
       "      <td>0.035084</td>\n",
       "    </tr>\n",
       "    <tr>\n",
       "      <th>day</th>\n",
       "      <td>0.015786</td>\n",
       "      <td>-0.018876</td>\n",
       "      <td>0.012959</td>\n",
       "      <td>0.006244</td>\n",
       "      <td>-0.003572</td>\n",
       "      <td>-0.006121</td>\n",
       "      <td>-0.002267</td>\n",
       "      <td>-0.018348</td>\n",
       "      <td>0.015318</td>\n",
       "      <td>1.000000</td>\n",
       "      <td>0.001408</td>\n",
       "    </tr>\n",
       "    <tr>\n",
       "      <th>Earnings</th>\n",
       "      <td>-0.053973</td>\n",
       "      <td>0.072902</td>\n",
       "      <td>0.346617</td>\n",
       "      <td>0.557175</td>\n",
       "      <td>0.769948</td>\n",
       "      <td>0.321816</td>\n",
       "      <td>0.296736</td>\n",
       "      <td>-0.059011</td>\n",
       "      <td>0.035084</td>\n",
       "      <td>0.001408</td>\n",
       "      <td>1.000000</td>\n",
       "    </tr>\n",
       "  </tbody>\n",
       "</table>\n",
       "</div>"
      ],
      "text/plain": [
       "                  course_id   is_paid     price  num_subscribers  num_reviews  \\\n",
       "course_id          1.000000 -0.013679  0.142319        -0.167856    -0.058550   \n",
       "is_paid           -0.013679  1.000000  0.328513        -0.266159    -0.087471   \n",
       "price              0.142319  0.328513  1.000000         0.050769     0.113696   \n",
       "num_subscribers   -0.167856 -0.266159  0.050769         1.000000     0.649946   \n",
       "num_reviews       -0.058550 -0.087471  0.113696         0.649946     1.000000   \n",
       "num_lectures      -0.024646  0.112574  0.330160         0.157746     0.243029   \n",
       "content_duration  -0.057223  0.094417  0.293450         0.161839     0.228889   \n",
       "year               0.933151 -0.017609  0.132990        -0.184574    -0.053318   \n",
       "month             -0.067373  0.034718  0.038389         0.015244     0.006853   \n",
       "day                0.015786 -0.018876  0.012959         0.006244    -0.003572   \n",
       "Earnings          -0.053973  0.072902  0.346617         0.557175     0.769948   \n",
       "\n",
       "                  num_lectures  content_duration      year     month  \\\n",
       "course_id            -0.024646         -0.057223  0.933151 -0.067373   \n",
       "is_paid               0.112574          0.094417 -0.017609  0.034718   \n",
       "price                 0.330160          0.293450  0.132990  0.038389   \n",
       "num_subscribers       0.157746          0.161839 -0.184574  0.015244   \n",
       "num_reviews           0.243029          0.228889 -0.053318  0.006853   \n",
       "num_lectures          1.000000          0.801647 -0.025085  0.031808   \n",
       "content_duration      0.801647          1.000000 -0.058752  0.020887   \n",
       "year                 -0.025085         -0.058752  1.000000 -0.288077   \n",
       "month                 0.031808          0.020887 -0.288077  1.000000   \n",
       "day                  -0.006121         -0.002267 -0.018348  0.015318   \n",
       "Earnings              0.321816          0.296736 -0.059011  0.035084   \n",
       "\n",
       "                       day  Earnings  \n",
       "course_id         0.015786 -0.053973  \n",
       "is_paid          -0.018876  0.072902  \n",
       "price             0.012959  0.346617  \n",
       "num_subscribers   0.006244  0.557175  \n",
       "num_reviews      -0.003572  0.769948  \n",
       "num_lectures     -0.006121  0.321816  \n",
       "content_duration -0.002267  0.296736  \n",
       "year             -0.018348 -0.059011  \n",
       "month             0.015318  0.035084  \n",
       "day               1.000000  0.001408  \n",
       "Earnings          0.001408  1.000000  "
      ]
     },
     "execution_count": 164,
     "metadata": {},
     "output_type": "execute_result"
    }
   ],
   "source": [
    "df.corr()"
   ]
  },
  {
   "cell_type": "code",
   "execution_count": 169,
   "id": "317e347a",
   "metadata": {},
   "outputs": [
    {
     "data": {
      "text/plain": [
       "<AxesSubplot:xlabel='num_reviews', ylabel='num_subscribers'>"
      ]
     },
     "execution_count": 169,
     "metadata": {},
     "output_type": "execute_result"
    },
    {
     "data": {
      "image/png": "[encoded data removed]",
      "text/plain": [
       "<Figure size 432x288 with 1 Axes>"
      ]
     },
     "metadata": {
      "needs_background": "light"
     },
     "output_type": "display_data"
    }
   ],
   "source": [
    "sns.scatterplot(data=df, y='num_subscribers',x='num_reviews')"
   ]
  },
  {
   "cell_type": "markdown",
   "id": "41105881",
   "metadata": {},
   "source": [
    "With increase in reviews we can see the subscriber coun increasing, although not so strongly"
   ]
  },
  {
   "cell_type": "code",
   "execution_count": 170,
   "id": "e256a877",
   "metadata": {},
   "outputs": [
    {
     "data": {
      "text/plain": [
       "<AxesSubplot:xlabel='price', ylabel='num_subscribers'>"
      ]
     },
     "execution_count": 170,
     "metadata": {},
     "output_type": "execute_result"
    },
    {
     "data": {
      "image/png": "[encoded data removed]",
      "text/plain": [
       "<Figure size 432x288 with 1 Axes>"
      ]
     },
     "metadata": {
      "needs_background": "light"
     },
     "output_type": "display_data"
    }
   ],
   "source": [
    "sns.scatterplot(data=df, y='num_subscribers',x='price')"
   ]
  },
  {
   "cell_type": "markdown",
   "id": "71b4a8df",
   "metadata": {},
   "source": [
    "With increase in price, the effect of no of subscriber is weak."
   ]
  },
  {
   "cell_type": "code",
   "execution_count": 171,
   "id": "98e9ebc6",
   "metadata": {},
   "outputs": [
    {
     "data": {
      "text/plain": [
       "<AxesSubplot:xlabel='num_lectures', ylabel='num_subscribers'>"
      ]
     },
     "execution_count": 171,
     "metadata": {},
     "output_type": "execute_result"
    },
    {
     "data": {
      "image/png": "[encoded data removed]",
      "text/plain": [
       "<Figure size 432x288 with 1 Axes>"
      ]
     },
     "metadata": {
      "needs_background": "light"
     },
     "output_type": "display_data"
    }
   ],
   "source": [
    "sns.scatterplot(data=df, y='num_subscribers',x='num_lectures')"
   ]
  },
  {
   "cell_type": "markdown",
   "id": "0c6f22e6",
   "metadata": {},
   "source": [
    "With increase in number of lectures, the number of subscibers are somewhat decreasing"
   ]
  },
  {
   "cell_type": "code",
   "execution_count": 172,
   "id": "d4f74976",
   "metadata": {},
   "outputs": [
    {
     "data": {
      "text/plain": [
       "<AxesSubplot:xlabel='content_duration', ylabel='num_subscribers'>"
      ]
     },
     "execution_count": 172,
     "metadata": {},
     "output_type": "execute_result"
    },
    {
     "data": {
      "image/png": "[encoded data removed]",
      "text/plain": [
       "<Figure size 432x288 with 1 Axes>"
      ]
     },
     "metadata": {
      "needs_background": "light"
     },
     "output_type": "display_data"
    }
   ],
   "source": [
    "sns.scatterplot(data=df, y='num_subscribers',x='content_duration')"
   ]
  },
  {
   "cell_type": "markdown",
   "id": "942796fe",
   "metadata": {},
   "source": [
    "With increase in content duration the subscribers are less likely to take up the course"
   ]
  },
  {
   "cell_type": "markdown",
   "id": "604d56d0",
   "metadata": {},
   "source": [
    "# END of EDA"
   ]
  },
  {
   "cell_type": "markdown",
   "id": "5a529cc1",
   "metadata": {},
   "source": [
    "# ............................................********************************.................................."
   ]
  },
  {
   "cell_type": "code",
   "execution_count": null,
   "id": "8403f052",
   "metadata": {},
   "outputs": [],
   "source": [
    "## Possible opportunities for creating a collection of best courses. This collection will act as a source for our reccomender system\n",
    "- Classify the courses into clusters. One of them would be containing the best ones"
   ]
  },
  {
   "cell_type": "code",
   "execution_count": 174,
   "id": "9b4b8e7f",
   "metadata": {},
   "outputs": [
    {
     "data": {
      "text/plain": [
       "Index(['course_id', 'course_title', 'url', 'is_paid', 'price',\n",
       "       'num_subscribers', 'num_reviews', 'num_lectures', 'level',\n",
       "       'content_duration', 'published_timestamp', 'subject', 'published_date',\n",
       "       'year', 'month', 'day', 'Earnings'],\n",
       "      dtype='object')"
      ]
     },
     "execution_count": 174,
     "metadata": {},
     "output_type": "execute_result"
    }
   ],
   "source": [
    "#gathering the required columns for clustering\n",
    "df.columns"
   ]
  },
  {
   "cell_type": "code",
   "execution_count": 175,
   "id": "9904a204",
   "metadata": {},
   "outputs": [],
   "source": [
    "list={'price','num_subscribers', 'num_reviews', 'num_lectures', 'content_duration'}"
   ]
  },
  {
   "cell_type": "code",
   "execution_count": 176,
   "id": "cf2e420f",
   "metadata": {},
   "outputs": [],
   "source": [
    "data=df[list]"
   ]
  },
  {
   "cell_type": "code",
   "execution_count": 177,
   "id": "d1633c97",
   "metadata": {},
   "outputs": [
    {
     "data": {
      "text/html": [
       "<div>\n",
       "<style scoped>\n",
       "    .dataframe tbody tr th:only-of-type {\n",
       "        vertical-align: middle;\n",
       "    }\n",
       "\n",
       "    .dataframe tbody tr th {\n",
       "        vertical-align: top;\n",
       "    }\n",
       "\n",
       "    .dataframe thead th {\n",
       "        text-align: right;\n",
       "    }\n",
       "</style>\n",
       "<table border=\"1\" class=\"dataframe\">\n",
       "  <thead>\n",
       "    <tr style=\"text-align: right;\">\n",
       "      <th></th>\n",
       "      <th>price</th>\n",
       "      <th>num_reviews</th>\n",
       "      <th>content_duration</th>\n",
       "      <th>num_subscribers</th>\n",
       "      <th>num_lectures</th>\n",
       "    </tr>\n",
       "  </thead>\n",
       "  <tbody>\n",
       "    <tr>\n",
       "      <th>0</th>\n",
       "      <td>200</td>\n",
       "      <td>23</td>\n",
       "      <td>1.5</td>\n",
       "      <td>2147</td>\n",
       "      <td>51</td>\n",
       "    </tr>\n",
       "    <tr>\n",
       "      <th>1</th>\n",
       "      <td>75</td>\n",
       "      <td>923</td>\n",
       "      <td>39.0</td>\n",
       "      <td>2792</td>\n",
       "      <td>274</td>\n",
       "    </tr>\n",
       "    <tr>\n",
       "      <th>2</th>\n",
       "      <td>45</td>\n",
       "      <td>74</td>\n",
       "      <td>2.5</td>\n",
       "      <td>2174</td>\n",
       "      <td>51</td>\n",
       "    </tr>\n",
       "  </tbody>\n",
       "</table>\n",
       "</div>"
      ],
      "text/plain": [
       "   price  num_reviews  content_duration  num_subscribers  num_lectures\n",
       "0    200           23               1.5             2147            51\n",
       "1     75          923              39.0             2792           274\n",
       "2     45           74               2.5             2174            51"
      ]
     },
     "execution_count": 177,
     "metadata": {},
     "output_type": "execute_result"
    }
   ],
   "source": [
    "data.head(3)"
   ]
  },
  {
   "cell_type": "code",
   "execution_count": 178,
   "id": "8713ee87",
   "metadata": {},
   "outputs": [],
   "source": [
    "#scale the data\n",
    "scaler = StandardScaler()"
   ]
  },
  {
   "cell_type": "code",
   "execution_count": 179,
   "id": "af0373e6",
   "metadata": {},
   "outputs": [
    {
     "data": {
      "text/plain": [
       "array([[ 2.19600149, -0.14247361, -0.428632  , -0.11050931,  0.21619696],\n",
       "       [ 0.14673589,  0.81975891,  5.76662528, -0.04263476,  4.64286453],\n",
       "       [-0.34508786, -0.0879471 , -0.26342514, -0.10766805,  0.21619696],\n",
       "       ...,\n",
       "       [-0.42705848,  0.01362189, -0.09821828, -0.28245818,  0.15664538],\n",
       "       [-0.26311723, -0.13392043, -0.18082171, -0.30487257, -0.04185989],\n",
       "       [-0.34508786, -0.12857469, -0.34602857, -0.24162822, -0.39916938]])"
      ]
     },
     "execution_count": 179,
     "metadata": {},
     "output_type": "execute_result"
    }
   ],
   "source": [
    "data_scaled = scaler.fit_transform(data)#mean= 0 and sd=1\n",
    "data_scaled"
   ]
  },
  {
   "cell_type": "code",
   "execution_count": 180,
   "id": "a57db5c4",
   "metadata": {},
   "outputs": [],
   "source": [
    "import sklearn\n",
    "from sklearn.cluster import KMeans"
   ]
  },
  {
   "cell_type": "code",
   "execution_count": 181,
   "id": "fbf0881c",
   "metadata": {},
   "outputs": [
    {
     "data": {
      "text/plain": [
       "KMeans(n_clusters=3)"
      ]
     },
     "execution_count": 181,
     "metadata": {},
     "output_type": "execute_result"
    }
   ],
   "source": [
    "kmeans = KMeans(n_clusters=3)\n",
    "kmeans.fit(data_scaled)"
   ]
  },
  {
   "cell_type": "code",
   "execution_count": 182,
   "id": "a6d121d7",
   "metadata": {},
   "outputs": [
    {
     "data": {
      "text/plain": [
       "array([0, 1, 0, ..., 0, 0, 0])"
      ]
     },
     "execution_count": 182,
     "metadata": {},
     "output_type": "execute_result"
    }
   ],
   "source": [
    "kmeans.labels_"
   ]
  },
  {
   "cell_type": "code",
   "execution_count": 183,
   "id": "242c0f49",
   "metadata": {},
   "outputs": [
    {
     "data": {
      "text/plain": [
       "0    3437\n",
       "1     225\n",
       "2      16\n",
       "dtype: int64"
      ]
     },
     "execution_count": 183,
     "metadata": {},
     "output_type": "execute_result"
    }
   ],
   "source": [
    "a=kmeans.labels_\n",
    "a=pd.DataFrame(a)\n",
    "a.value_counts()"
   ]
  },
  {
   "cell_type": "code",
   "execution_count": 184,
   "id": "5a1b5a35",
   "metadata": {},
   "outputs": [
    {
     "data": {
      "text/html": [
       "<div>\n",
       "<style scoped>\n",
       "    .dataframe tbody tr th:only-of-type {\n",
       "        vertical-align: middle;\n",
       "    }\n",
       "\n",
       "    .dataframe tbody tr th {\n",
       "        vertical-align: top;\n",
       "    }\n",
       "\n",
       "    .dataframe thead th {\n",
       "        text-align: right;\n",
       "    }\n",
       "</style>\n",
       "<table border=\"1\" class=\"dataframe\">\n",
       "  <thead>\n",
       "    <tr style=\"text-align: right;\">\n",
       "      <th></th>\n",
       "      <th>course_id</th>\n",
       "      <th>course_title</th>\n",
       "      <th>url</th>\n",
       "      <th>is_paid</th>\n",
       "      <th>price</th>\n",
       "      <th>num_subscribers</th>\n",
       "      <th>num_reviews</th>\n",
       "      <th>num_lectures</th>\n",
       "      <th>level</th>\n",
       "      <th>content_duration</th>\n",
       "      <th>published_timestamp</th>\n",
       "      <th>subject</th>\n",
       "      <th>published_date</th>\n",
       "      <th>year</th>\n",
       "      <th>month</th>\n",
       "      <th>day</th>\n",
       "      <th>Earnings</th>\n",
       "      <th>Cluster_Id</th>\n",
       "    </tr>\n",
       "  </thead>\n",
       "  <tbody>\n",
       "    <tr>\n",
       "      <th>0</th>\n",
       "      <td>1070968</td>\n",
       "      <td>Ultimate Investment Banking Course</td>\n",
       "      <td>https://www.udemy.com/ultimate-investment-bank...</td>\n",
       "      <td>True</td>\n",
       "      <td>200</td>\n",
       "      <td>2147</td>\n",
       "      <td>23</td>\n",
       "      <td>51</td>\n",
       "      <td>All Levels</td>\n",
       "      <td>1.5</td>\n",
       "      <td>2017-01-18T20:58:58Z</td>\n",
       "      <td>Business Finance</td>\n",
       "      <td>2017-01-18</td>\n",
       "      <td>2017</td>\n",
       "      <td>1</td>\n",
       "      <td>18</td>\n",
       "      <td>429400</td>\n",
       "      <td>0</td>\n",
       "    </tr>\n",
       "    <tr>\n",
       "      <th>1</th>\n",
       "      <td>1113822</td>\n",
       "      <td>Complete GST Course &amp; Certification - Grow You...</td>\n",
       "      <td>https://www.udemy.com/goods-and-services-tax/</td>\n",
       "      <td>True</td>\n",
       "      <td>75</td>\n",
       "      <td>2792</td>\n",
       "      <td>923</td>\n",
       "      <td>274</td>\n",
       "      <td>All Levels</td>\n",
       "      <td>39.0</td>\n",
       "      <td>2017-03-09T16:34:20Z</td>\n",
       "      <td>Business Finance</td>\n",
       "      <td>2017-03-09</td>\n",
       "      <td>2017</td>\n",
       "      <td>3</td>\n",
       "      <td>9</td>\n",
       "      <td>209400</td>\n",
       "      <td>1</td>\n",
       "    </tr>\n",
       "    <tr>\n",
       "      <th>2</th>\n",
       "      <td>1006314</td>\n",
       "      <td>Financial Modeling for Business Analysts and C...</td>\n",
       "      <td>https://www.udemy.com/financial-modeling-for-b...</td>\n",
       "      <td>True</td>\n",
       "      <td>45</td>\n",
       "      <td>2174</td>\n",
       "      <td>74</td>\n",
       "      <td>51</td>\n",
       "      <td>Intermediate Level</td>\n",
       "      <td>2.5</td>\n",
       "      <td>2016-12-19T19:26:30Z</td>\n",
       "      <td>Business Finance</td>\n",
       "      <td>2016-12-19</td>\n",
       "      <td>2016</td>\n",
       "      <td>12</td>\n",
       "      <td>19</td>\n",
       "      <td>97830</td>\n",
       "      <td>0</td>\n",
       "    </tr>\n",
       "    <tr>\n",
       "      <th>3</th>\n",
       "      <td>1210588</td>\n",
       "      <td>Beginner to Pro - Financial Analysis in Excel ...</td>\n",
       "      <td>https://www.udemy.com/complete-excel-finance-c...</td>\n",
       "      <td>True</td>\n",
       "      <td>95</td>\n",
       "      <td>2451</td>\n",
       "      <td>11</td>\n",
       "      <td>36</td>\n",
       "      <td>All Levels</td>\n",
       "      <td>3.0</td>\n",
       "      <td>2017-05-30T20:07:24Z</td>\n",
       "      <td>Business Finance</td>\n",
       "      <td>2017-05-30</td>\n",
       "      <td>2017</td>\n",
       "      <td>5</td>\n",
       "      <td>30</td>\n",
       "      <td>232845</td>\n",
       "      <td>0</td>\n",
       "    </tr>\n",
       "    <tr>\n",
       "      <th>4</th>\n",
       "      <td>1011058</td>\n",
       "      <td>How To Maximize Your Profits Trading Options</td>\n",
       "      <td>https://www.udemy.com/how-to-maximize-your-pro...</td>\n",
       "      <td>True</td>\n",
       "      <td>200</td>\n",
       "      <td>1276</td>\n",
       "      <td>45</td>\n",
       "      <td>26</td>\n",
       "      <td>Intermediate Level</td>\n",
       "      <td>2.0</td>\n",
       "      <td>2016-12-13T14:57:18Z</td>\n",
       "      <td>Business Finance</td>\n",
       "      <td>2016-12-13</td>\n",
       "      <td>2016</td>\n",
       "      <td>12</td>\n",
       "      <td>13</td>\n",
       "      <td>255200</td>\n",
       "      <td>0</td>\n",
       "    </tr>\n",
       "  </tbody>\n",
       "</table>\n",
       "</div>"
      ],
      "text/plain": [
       "   course_id                                       course_title  \\\n",
       "0    1070968                 Ultimate Investment Banking Course   \n",
       "1    1113822  Complete GST Course & Certification - Grow You...   \n",
       "2    1006314  Financial Modeling for Business Analysts and C...   \n",
       "3    1210588  Beginner to Pro - Financial Analysis in Excel ...   \n",
       "4    1011058       How To Maximize Your Profits Trading Options   \n",
       "\n",
       "                                                 url  is_paid  price  \\\n",
       "0  https://www.udemy.com/ultimate-investment-bank...     True    200   \n",
       "1      https://www.udemy.com/goods-and-services-tax/     True     75   \n",
       "2  https://www.udemy.com/financial-modeling-for-b...     True     45   \n",
       "3  https://www.udemy.com/complete-excel-finance-c...     True     95   \n",
       "4  https://www.udemy.com/how-to-maximize-your-pro...     True    200   \n",
       "\n",
       "   num_subscribers  num_reviews  num_lectures               level  \\\n",
       "0             2147           23            51          All Levels   \n",
       "1             2792          923           274          All Levels   \n",
       "2             2174           74            51  Intermediate Level   \n",
       "3             2451           11            36          All Levels   \n",
       "4             1276           45            26  Intermediate Level   \n",
       "\n",
       "   content_duration   published_timestamp           subject published_date  \\\n",
       "0               1.5  2017-01-18T20:58:58Z  Business Finance     2017-01-18   \n",
       "1              39.0  2017-03-09T16:34:20Z  Business Finance     2017-03-09   \n",
       "2               2.5  2016-12-19T19:26:30Z  Business Finance     2016-12-19   \n",
       "3               3.0  2017-05-30T20:07:24Z  Business Finance     2017-05-30   \n",
       "4               2.0  2016-12-13T14:57:18Z  Business Finance     2016-12-13   \n",
       "\n",
       "   year  month  day  Earnings  Cluster_Id  \n",
       "0  2017      1   18    429400           0  \n",
       "1  2017      3    9    209400           1  \n",
       "2  2016     12   19     97830           0  \n",
       "3  2017      5   30    232845           0  \n",
       "4  2016     12   13    255200           0  "
      ]
     },
     "execution_count": 184,
     "metadata": {},
     "output_type": "execute_result"
    }
   ],
   "source": [
    "# assign the label\n",
    "df['Cluster_Id'] = kmeans.labels_\n",
    "df.head()"
   ]
  },
  {
   "cell_type": "code",
   "execution_count": 186,
   "id": "aab8f278",
   "metadata": {},
   "outputs": [
    {
     "data": {
      "text/html": [
       "<div>\n",
       "<style scoped>\n",
       "    .dataframe tbody tr th:only-of-type {\n",
       "        vertical-align: middle;\n",
       "    }\n",
       "\n",
       "    .dataframe tbody tr th {\n",
       "        vertical-align: top;\n",
       "    }\n",
       "\n",
       "    .dataframe thead th {\n",
       "        text-align: right;\n",
       "    }\n",
       "</style>\n",
       "<table border=\"1\" class=\"dataframe\">\n",
       "  <thead>\n",
       "    <tr style=\"text-align: right;\">\n",
       "      <th></th>\n",
       "      <th>course_id</th>\n",
       "      <th>course_title</th>\n",
       "      <th>url</th>\n",
       "      <th>is_paid</th>\n",
       "      <th>price</th>\n",
       "      <th>num_subscribers</th>\n",
       "      <th>num_reviews</th>\n",
       "      <th>num_lectures</th>\n",
       "      <th>level</th>\n",
       "      <th>content_duration</th>\n",
       "      <th>published_timestamp</th>\n",
       "      <th>subject</th>\n",
       "      <th>published_date</th>\n",
       "      <th>year</th>\n",
       "      <th>month</th>\n",
       "      <th>day</th>\n",
       "      <th>Earnings</th>\n",
       "      <th>Cluster_Id</th>\n",
       "    </tr>\n",
       "  </thead>\n",
       "  <tbody>\n",
       "    <tr>\n",
       "      <th>0</th>\n",
       "      <td>1070968</td>\n",
       "      <td>Ultimate Investment Banking Course</td>\n",
       "      <td>https://www.udemy.com/ultimate-investment-bank...</td>\n",
       "      <td>True</td>\n",
       "      <td>200</td>\n",
       "      <td>2147</td>\n",
       "      <td>23</td>\n",
       "      <td>51</td>\n",
       "      <td>All Levels</td>\n",
       "      <td>1.5</td>\n",
       "      <td>2017-01-18T20:58:58Z</td>\n",
       "      <td>Business Finance</td>\n",
       "      <td>2017-01-18</td>\n",
       "      <td>2017</td>\n",
       "      <td>1</td>\n",
       "      <td>18</td>\n",
       "      <td>429400</td>\n",
       "      <td>0</td>\n",
       "    </tr>\n",
       "    <tr>\n",
       "      <th>2</th>\n",
       "      <td>1006314</td>\n",
       "      <td>Financial Modeling for Business Analysts and C...</td>\n",
       "      <td>https://www.udemy.com/financial-modeling-for-b...</td>\n",
       "      <td>True</td>\n",
       "      <td>45</td>\n",
       "      <td>2174</td>\n",
       "      <td>74</td>\n",
       "      <td>51</td>\n",
       "      <td>Intermediate Level</td>\n",
       "      <td>2.5</td>\n",
       "      <td>2016-12-19T19:26:30Z</td>\n",
       "      <td>Business Finance</td>\n",
       "      <td>2016-12-19</td>\n",
       "      <td>2016</td>\n",
       "      <td>12</td>\n",
       "      <td>19</td>\n",
       "      <td>97830</td>\n",
       "      <td>0</td>\n",
       "    </tr>\n",
       "    <tr>\n",
       "      <th>3</th>\n",
       "      <td>1210588</td>\n",
       "      <td>Beginner to Pro - Financial Analysis in Excel ...</td>\n",
       "      <td>https://www.udemy.com/complete-excel-finance-c...</td>\n",
       "      <td>True</td>\n",
       "      <td>95</td>\n",
       "      <td>2451</td>\n",
       "      <td>11</td>\n",
       "      <td>36</td>\n",
       "      <td>All Levels</td>\n",
       "      <td>3.0</td>\n",
       "      <td>2017-05-30T20:07:24Z</td>\n",
       "      <td>Business Finance</td>\n",
       "      <td>2017-05-30</td>\n",
       "      <td>2017</td>\n",
       "      <td>5</td>\n",
       "      <td>30</td>\n",
       "      <td>232845</td>\n",
       "      <td>0</td>\n",
       "    </tr>\n",
       "    <tr>\n",
       "      <th>4</th>\n",
       "      <td>1011058</td>\n",
       "      <td>How To Maximize Your Profits Trading Options</td>\n",
       "      <td>https://www.udemy.com/how-to-maximize-your-pro...</td>\n",
       "      <td>True</td>\n",
       "      <td>200</td>\n",
       "      <td>1276</td>\n",
       "      <td>45</td>\n",
       "      <td>26</td>\n",
       "      <td>Intermediate Level</td>\n",
       "      <td>2.0</td>\n",
       "      <td>2016-12-13T14:57:18Z</td>\n",
       "      <td>Business Finance</td>\n",
       "      <td>2016-12-13</td>\n",
       "      <td>2016</td>\n",
       "      <td>12</td>\n",
       "      <td>13</td>\n",
       "      <td>255200</td>\n",
       "      <td>0</td>\n",
       "    </tr>\n",
       "    <tr>\n",
       "      <th>5</th>\n",
       "      <td>192870</td>\n",
       "      <td>Trading Penny Stocks: A Guide for All Levels I...</td>\n",
       "      <td>https://www.udemy.com/trading-penny-stocks-a-g...</td>\n",
       "      <td>True</td>\n",
       "      <td>150</td>\n",
       "      <td>9221</td>\n",
       "      <td>138</td>\n",
       "      <td>25</td>\n",
       "      <td>All Levels</td>\n",
       "      <td>3.0</td>\n",
       "      <td>2014-05-02T15:13:30Z</td>\n",
       "      <td>Business Finance</td>\n",
       "      <td>2014-05-02</td>\n",
       "      <td>2014</td>\n",
       "      <td>5</td>\n",
       "      <td>2</td>\n",
       "      <td>1383150</td>\n",
       "      <td>0</td>\n",
       "    </tr>\n",
       "  </tbody>\n",
       "</table>\n",
       "</div>"
      ],
      "text/plain": [
       "   course_id                                       course_title  \\\n",
       "0    1070968                 Ultimate Investment Banking Course   \n",
       "2    1006314  Financial Modeling for Business Analysts and C...   \n",
       "3    1210588  Beginner to Pro - Financial Analysis in Excel ...   \n",
       "4    1011058       How To Maximize Your Profits Trading Options   \n",
       "5     192870  Trading Penny Stocks: A Guide for All Levels I...   \n",
       "\n",
       "                                                 url  is_paid  price  \\\n",
       "0  https://www.udemy.com/ultimate-investment-bank...     True    200   \n",
       "2  https://www.udemy.com/financial-modeling-for-b...     True     45   \n",
       "3  https://www.udemy.com/complete-excel-finance-c...     True     95   \n",
       "4  https://www.udemy.com/how-to-maximize-your-pro...     True    200   \n",
       "5  https://www.udemy.com/trading-penny-stocks-a-g...     True    150   \n",
       "\n",
       "   num_subscribers  num_reviews  num_lectures               level  \\\n",
       "0             2147           23            51          All Levels   \n",
       "2             2174           74            51  Intermediate Level   \n",
       "3             2451           11            36          All Levels   \n",
       "4             1276           45            26  Intermediate Level   \n",
       "5             9221          138            25          All Levels   \n",
       "\n",
       "   content_duration   published_timestamp           subject published_date  \\\n",
       "0               1.5  2017-01-18T20:58:58Z  Business Finance     2017-01-18   \n",
       "2               2.5  2016-12-19T19:26:30Z  Business Finance     2016-12-19   \n",
       "3               3.0  2017-05-30T20:07:24Z  Business Finance     2017-05-30   \n",
       "4               2.0  2016-12-13T14:57:18Z  Business Finance     2016-12-13   \n",
       "5               3.0  2014-05-02T15:13:30Z  Business Finance     2014-05-02   \n",
       "\n",
       "   year  month  day  Earnings  Cluster_Id  \n",
       "0  2017      1   18    429400           0  \n",
       "2  2016     12   19     97830           0  \n",
       "3  2017      5   30    232845           0  \n",
       "4  2016     12   13    255200           0  \n",
       "5  2014      5    2   1383150           0  "
      ]
     },
     "execution_count": 186,
     "metadata": {},
     "output_type": "execute_result"
    }
   ],
   "source": [
    "df[df['Cluster_Id']==0].head(5)"
   ]
  },
  {
   "cell_type": "code",
   "execution_count": 198,
   "id": "a3c1021d",
   "metadata": {},
   "outputs": [
    {
     "data": {
      "text/html": [
       "<div>\n",
       "<style scoped>\n",
       "    .dataframe tbody tr th:only-of-type {\n",
       "        vertical-align: middle;\n",
       "    }\n",
       "\n",
       "    .dataframe tbody tr th {\n",
       "        vertical-align: top;\n",
       "    }\n",
       "\n",
       "    .dataframe thead th {\n",
       "        text-align: right;\n",
       "    }\n",
       "</style>\n",
       "<table border=\"1\" class=\"dataframe\">\n",
       "  <thead>\n",
       "    <tr style=\"text-align: right;\">\n",
       "      <th></th>\n",
       "      <th>course_id</th>\n",
       "      <th>course_title</th>\n",
       "      <th>url</th>\n",
       "      <th>is_paid</th>\n",
       "      <th>price</th>\n",
       "      <th>num_subscribers</th>\n",
       "      <th>num_reviews</th>\n",
       "      <th>num_lectures</th>\n",
       "      <th>level</th>\n",
       "      <th>content_duration</th>\n",
       "      <th>published_timestamp</th>\n",
       "      <th>subject</th>\n",
       "      <th>published_date</th>\n",
       "      <th>year</th>\n",
       "      <th>month</th>\n",
       "      <th>day</th>\n",
       "      <th>Earnings</th>\n",
       "      <th>Cluster_Id</th>\n",
       "    </tr>\n",
       "  </thead>\n",
       "  <tbody>\n",
       "    <tr>\n",
       "      <th>1</th>\n",
       "      <td>1113822</td>\n",
       "      <td>Complete GST Course &amp; Certification - Grow You...</td>\n",
       "      <td>https://www.udemy.com/goods-and-services-tax/</td>\n",
       "      <td>True</td>\n",
       "      <td>75</td>\n",
       "      <td>2792</td>\n",
       "      <td>923</td>\n",
       "      <td>274</td>\n",
       "      <td>All Levels</td>\n",
       "      <td>39.0</td>\n",
       "      <td>2017-03-09T16:34:20Z</td>\n",
       "      <td>Business Finance</td>\n",
       "      <td>2017-03-09</td>\n",
       "      <td>2017</td>\n",
       "      <td>3</td>\n",
       "      <td>9</td>\n",
       "      <td>209400</td>\n",
       "      <td>1</td>\n",
       "    </tr>\n",
       "    <tr>\n",
       "      <th>38</th>\n",
       "      <td>321410</td>\n",
       "      <td>Beginner to Pro in Excel: Financial Modeling a...</td>\n",
       "      <td>https://www.udemy.com/beginner-to-pro-in-excel...</td>\n",
       "      <td>True</td>\n",
       "      <td>195</td>\n",
       "      <td>22257</td>\n",
       "      <td>2697</td>\n",
       "      <td>138</td>\n",
       "      <td>All Levels</td>\n",
       "      <td>7.5</td>\n",
       "      <td>2014-11-25T23:00:40Z</td>\n",
       "      <td>Business Finance</td>\n",
       "      <td>2014-11-25</td>\n",
       "      <td>2014</td>\n",
       "      <td>11</td>\n",
       "      <td>25</td>\n",
       "      <td>4340115</td>\n",
       "      <td>1</td>\n",
       "    </tr>\n",
       "    <tr>\n",
       "      <th>40</th>\n",
       "      <td>648826</td>\n",
       "      <td>The Complete Financial Analyst Course 2017</td>\n",
       "      <td>https://www.udemy.com/the-complete-financial-a...</td>\n",
       "      <td>True</td>\n",
       "      <td>195</td>\n",
       "      <td>24481</td>\n",
       "      <td>2347</td>\n",
       "      <td>174</td>\n",
       "      <td>All Levels</td>\n",
       "      <td>10.0</td>\n",
       "      <td>2016-01-21T01:38:48Z</td>\n",
       "      <td>Business Finance</td>\n",
       "      <td>2016-01-21</td>\n",
       "      <td>2016</td>\n",
       "      <td>1</td>\n",
       "      <td>21</td>\n",
       "      <td>4773795</td>\n",
       "      <td>1</td>\n",
       "    </tr>\n",
       "    <tr>\n",
       "      <th>42</th>\n",
       "      <td>1154754</td>\n",
       "      <td>Financial Modeling for Startups &amp; Small Busine...</td>\n",
       "      <td>https://www.udemy.com/financial-modeling-for-s...</td>\n",
       "      <td>True</td>\n",
       "      <td>195</td>\n",
       "      <td>4991</td>\n",
       "      <td>137</td>\n",
       "      <td>79</td>\n",
       "      <td>Beginner Level</td>\n",
       "      <td>11.5</td>\n",
       "      <td>2017-03-29T22:36:05Z</td>\n",
       "      <td>Business Finance</td>\n",
       "      <td>2017-03-29</td>\n",
       "      <td>2017</td>\n",
       "      <td>3</td>\n",
       "      <td>29</td>\n",
       "      <td>973245</td>\n",
       "      <td>1</td>\n",
       "    </tr>\n",
       "    <tr>\n",
       "      <th>44</th>\n",
       "      <td>301442</td>\n",
       "      <td>Black Algo Trading: Build Your Trading Robot</td>\n",
       "      <td>https://www.udemy.com/build-your-trading-robot/</td>\n",
       "      <td>True</td>\n",
       "      <td>200</td>\n",
       "      <td>20195</td>\n",
       "      <td>1113</td>\n",
       "      <td>227</td>\n",
       "      <td>All Levels</td>\n",
       "      <td>16.0</td>\n",
       "      <td>2014-10-27T22:01:36Z</td>\n",
       "      <td>Business Finance</td>\n",
       "      <td>2014-10-27</td>\n",
       "      <td>2014</td>\n",
       "      <td>10</td>\n",
       "      <td>27</td>\n",
       "      <td>4039000</td>\n",
       "      <td>1</td>\n",
       "    </tr>\n",
       "    <tr>\n",
       "      <th>...</th>\n",
       "      <td>...</td>\n",
       "      <td>...</td>\n",
       "      <td>...</td>\n",
       "      <td>...</td>\n",
       "      <td>...</td>\n",
       "      <td>...</td>\n",
       "      <td>...</td>\n",
       "      <td>...</td>\n",
       "      <td>...</td>\n",
       "      <td>...</td>\n",
       "      <td>...</td>\n",
       "      <td>...</td>\n",
       "      <td>...</td>\n",
       "      <td>...</td>\n",
       "      <td>...</td>\n",
       "      <td>...</td>\n",
       "      <td>...</td>\n",
       "      <td>...</td>\n",
       "    </tr>\n",
       "    <tr>\n",
       "      <th>3647</th>\n",
       "      <td>975916</td>\n",
       "      <td>17 Complete JavaScript   projects explained st...</td>\n",
       "      <td>https://www.udemy.com/17-complete-javascript-p...</td>\n",
       "      <td>True</td>\n",
       "      <td>185</td>\n",
       "      <td>327</td>\n",
       "      <td>26</td>\n",
       "      <td>106</td>\n",
       "      <td>Beginner Level</td>\n",
       "      <td>9.5</td>\n",
       "      <td>2016-10-26T14:03:38Z</td>\n",
       "      <td>Web Development</td>\n",
       "      <td>2016-10-26</td>\n",
       "      <td>2016</td>\n",
       "      <td>10</td>\n",
       "      <td>26</td>\n",
       "      <td>60495</td>\n",
       "      <td>1</td>\n",
       "    </tr>\n",
       "    <tr>\n",
       "      <th>3652</th>\n",
       "      <td>919354</td>\n",
       "      <td>Learn Bootstrap 4 The Most Popular HTML5 CSS3 ...</td>\n",
       "      <td>https://www.udemy.com/learn-bootstrap-4-the-mo...</td>\n",
       "      <td>True</td>\n",
       "      <td>200</td>\n",
       "      <td>279</td>\n",
       "      <td>37</td>\n",
       "      <td>119</td>\n",
       "      <td>All Levels</td>\n",
       "      <td>10.0</td>\n",
       "      <td>2017-04-25T00:57:35Z</td>\n",
       "      <td>Web Development</td>\n",
       "      <td>2017-04-25</td>\n",
       "      <td>2017</td>\n",
       "      <td>4</td>\n",
       "      <td>25</td>\n",
       "      <td>55800</td>\n",
       "      <td>1</td>\n",
       "    </tr>\n",
       "    <tr>\n",
       "      <th>3654</th>\n",
       "      <td>949134</td>\n",
       "      <td>The Extreme Web Development Course - For Begin...</td>\n",
       "      <td>https://www.udemy.com/the-extreme-web-developm...</td>\n",
       "      <td>True</td>\n",
       "      <td>200</td>\n",
       "      <td>1420</td>\n",
       "      <td>62</td>\n",
       "      <td>152</td>\n",
       "      <td>All Levels</td>\n",
       "      <td>5.5</td>\n",
       "      <td>2016-09-04T20:51:08Z</td>\n",
       "      <td>Web Development</td>\n",
       "      <td>2016-09-04</td>\n",
       "      <td>2016</td>\n",
       "      <td>9</td>\n",
       "      <td>4</td>\n",
       "      <td>284000</td>\n",
       "      <td>1</td>\n",
       "    </tr>\n",
       "    <tr>\n",
       "      <th>3658</th>\n",
       "      <td>459922</td>\n",
       "      <td>The Complete Web Developer Course - Build 20 W...</td>\n",
       "      <td>https://www.udemy.com/the-complete-web-develop...</td>\n",
       "      <td>True</td>\n",
       "      <td>20</td>\n",
       "      <td>2650</td>\n",
       "      <td>61</td>\n",
       "      <td>304</td>\n",
       "      <td>All Levels</td>\n",
       "      <td>15.5</td>\n",
       "      <td>2015-03-26T22:11:15Z</td>\n",
       "      <td>Web Development</td>\n",
       "      <td>2015-03-26</td>\n",
       "      <td>2015</td>\n",
       "      <td>3</td>\n",
       "      <td>26</td>\n",
       "      <td>53000</td>\n",
       "      <td>1</td>\n",
       "    </tr>\n",
       "    <tr>\n",
       "      <th>3672</th>\n",
       "      <td>865438</td>\n",
       "      <td>jQuery UI in Action: Build 5 jQuery UI Projects</td>\n",
       "      <td>https://www.udemy.com/jquery-ui-practical-buil...</td>\n",
       "      <td>True</td>\n",
       "      <td>150</td>\n",
       "      <td>382</td>\n",
       "      <td>28</td>\n",
       "      <td>140</td>\n",
       "      <td>All Levels</td>\n",
       "      <td>15.5</td>\n",
       "      <td>2016-10-10T22:00:32Z</td>\n",
       "      <td>Web Development</td>\n",
       "      <td>2016-10-10</td>\n",
       "      <td>2016</td>\n",
       "      <td>10</td>\n",
       "      <td>10</td>\n",
       "      <td>57300</td>\n",
       "      <td>1</td>\n",
       "    </tr>\n",
       "  </tbody>\n",
       "</table>\n",
       "<p>225 rows × 18 columns</p>\n",
       "</div>"
      ],
      "text/plain": [
       "      course_id                                       course_title  \\\n",
       "1       1113822  Complete GST Course & Certification - Grow You...   \n",
       "38       321410  Beginner to Pro in Excel: Financial Modeling a...   \n",
       "40       648826         The Complete Financial Analyst Course 2017   \n",
       "42      1154754  Financial Modeling for Startups & Small Busine...   \n",
       "44       301442       Black Algo Trading: Build Your Trading Robot   \n",
       "...         ...                                                ...   \n",
       "3647     975916  17 Complete JavaScript   projects explained st...   \n",
       "3652     919354  Learn Bootstrap 4 The Most Popular HTML5 CSS3 ...   \n",
       "3654     949134  The Extreme Web Development Course - For Begin...   \n",
       "3658     459922  The Complete Web Developer Course - Build 20 W...   \n",
       "3672     865438    jQuery UI in Action: Build 5 jQuery UI Projects   \n",
       "\n",
       "                                                    url  is_paid  price  \\\n",
       "1         https://www.udemy.com/goods-and-services-tax/     True     75   \n",
       "38    https://www.udemy.com/beginner-to-pro-in-excel...     True    195   \n",
       "40    https://www.udemy.com/the-complete-financial-a...     True    195   \n",
       "42    https://www.udemy.com/financial-modeling-for-s...     True    195   \n",
       "44      https://www.udemy.com/build-your-trading-robot/     True    200   \n",
       "...                                                 ...      ...    ...   \n",
       "3647  https://www.udemy.com/17-complete-javascript-p...     True    185   \n",
       "3652  https://www.udemy.com/learn-bootstrap-4-the-mo...     True    200   \n",
       "3654  https://www.udemy.com/the-extreme-web-developm...     True    200   \n",
       "3658  https://www.udemy.com/the-complete-web-develop...     True     20   \n",
       "3672  https://www.udemy.com/jquery-ui-practical-buil...     True    150   \n",
       "\n",
       "      num_subscribers  num_reviews  num_lectures           level  \\\n",
       "1                2792          923           274      All Levels   \n",
       "38              22257         2697           138      All Levels   \n",
       "40              24481         2347           174      All Levels   \n",
       "42               4991          137            79  Beginner Level   \n",
       "44              20195         1113           227      All Levels   \n",
       "...               ...          ...           ...             ...   \n",
       "3647              327           26           106  Beginner Level   \n",
       "3652              279           37           119      All Levels   \n",
       "3654             1420           62           152      All Levels   \n",
       "3658             2650           61           304      All Levels   \n",
       "3672              382           28           140      All Levels   \n",
       "\n",
       "      content_duration   published_timestamp           subject published_date  \\\n",
       "1                 39.0  2017-03-09T16:34:20Z  Business Finance     2017-03-09   \n",
       "38                 7.5  2014-11-25T23:00:40Z  Business Finance     2014-11-25   \n",
       "40                10.0  2016-01-21T01:38:48Z  Business Finance     2016-01-21   \n",
       "42                11.5  2017-03-29T22:36:05Z  Business Finance     2017-03-29   \n",
       "44                16.0  2014-10-27T22:01:36Z  Business Finance     2014-10-27   \n",
       "...                ...                   ...               ...            ...   \n",
       "3647               9.5  2016-10-26T14:03:38Z   Web Development     2016-10-26   \n",
       "3652              10.0  2017-04-25T00:57:35Z   Web Development     2017-04-25   \n",
       "3654               5.5  2016-09-04T20:51:08Z   Web Development     2016-09-04   \n",
       "3658              15.5  2015-03-26T22:11:15Z   Web Development     2015-03-26   \n",
       "3672              15.5  2016-10-10T22:00:32Z   Web Development     2016-10-10   \n",
       "\n",
       "      year  month  day  Earnings  Cluster_Id  \n",
       "1     2017      3    9    209400           1  \n",
       "38    2014     11   25   4340115           1  \n",
       "40    2016      1   21   4773795           1  \n",
       "42    2017      3   29    973245           1  \n",
       "44    2014     10   27   4039000           1  \n",
       "...    ...    ...  ...       ...         ...  \n",
       "3647  2016     10   26     60495           1  \n",
       "3652  2017      4   25     55800           1  \n",
       "3654  2016      9    4    284000           1  \n",
       "3658  2015      3   26     53000           1  \n",
       "3672  2016     10   10     57300           1  \n",
       "\n",
       "[225 rows x 18 columns]"
      ]
     },
     "execution_count": 198,
     "metadata": {},
     "output_type": "execute_result"
    }
   ],
   "source": [
    "df[df['Cluster_Id']==1]"
   ]
  },
  {
   "cell_type": "code",
   "execution_count": 187,
   "id": "3f7a7fdb",
   "metadata": {},
   "outputs": [
    {
     "data": {
      "text/plain": [
       "{'content_duration', 'num_lectures', 'num_reviews', 'num_subscribers', 'price'}"
      ]
     },
     "execution_count": 187,
     "metadata": {},
     "output_type": "execute_result"
    }
   ],
   "source": [
    "list"
   ]
  },
  {
   "cell_type": "code",
   "execution_count": 199,
   "id": "6c645888",
   "metadata": {},
   "outputs": [
    {
     "data": {
      "text/plain": [
       "<AxesSubplot:xlabel='num_reviews', ylabel='num_subscribers'>"
      ]
     },
     "execution_count": 199,
     "metadata": {},
     "output_type": "execute_result"
    },
    {
     "data": {
      "image/png": "[encoded data removed]",
      "text/plain": [
       "<Figure size 432x288 with 1 Axes>"
      ]
     },
     "metadata": {
      "needs_background": "light"
     },
     "output_type": "display_data"
    }
   ],
   "source": [
    "sns.scatterplot(data=df,y=df['num_subscribers'],x=df['num_reviews'],hue='Cluster_Id')\n",
    "#plt.scatter(x=df['Frequency'],y=df['Cluster_Id']==1)\n",
    "#plt.scatter(x=df['Recency'],y=df['Cluster_Id']==2)"
   ]
  },
  {
   "cell_type": "code",
   "execution_count": null,
   "id": "36c96395",
   "metadata": {},
   "outputs": [],
   "source": [
    "# 3D visualization\n"
   ]
  },
  {
   "cell_type": "markdown",
   "id": "74489a8d",
   "metadata": {},
   "source": [
    "Possible opportunity :\n",
    "    Method 2: Manually Score the variables and Classify the courses into clusters"
   ]
  },
  {
   "cell_type": "code",
   "execution_count": 201,
   "id": "291f05f5",
   "metadata": {},
   "outputs": [
    {
     "data": {
      "text/plain": [
       "Index(['course_id', 'course_title', 'url', 'is_paid', 'price',\n",
       "       'num_subscribers', 'num_reviews', 'num_lectures', 'level',\n",
       "       'content_duration', 'published_timestamp', 'subject', 'published_date',\n",
       "       'year', 'month', 'day', 'Earnings', 'Cluster_Id'],\n",
       "      dtype='object')"
      ]
     },
     "execution_count": 201,
     "metadata": {},
     "output_type": "execute_result"
    }
   ],
   "source": [
    "df.columns"
   ]
  },
  {
   "cell_type": "code",
   "execution_count": 202,
   "id": "2086dd0b",
   "metadata": {},
   "outputs": [
    {
     "data": {
      "text/html": [
       "<div>\n",
       "<style scoped>\n",
       "    .dataframe tbody tr th:only-of-type {\n",
       "        vertical-align: middle;\n",
       "    }\n",
       "\n",
       "    .dataframe tbody tr th {\n",
       "        vertical-align: top;\n",
       "    }\n",
       "\n",
       "    .dataframe thead th {\n",
       "        text-align: right;\n",
       "    }\n",
       "</style>\n",
       "<table border=\"1\" class=\"dataframe\">\n",
       "  <thead>\n",
       "    <tr style=\"text-align: right;\">\n",
       "      <th></th>\n",
       "      <th>course_id</th>\n",
       "      <th>price</th>\n",
       "      <th>num_subscribers</th>\n",
       "      <th>num_reviews</th>\n",
       "      <th>num_lectures</th>\n",
       "      <th>content_duration</th>\n",
       "      <th>year</th>\n",
       "      <th>month</th>\n",
       "      <th>day</th>\n",
       "      <th>Earnings</th>\n",
       "      <th>Cluster_Id</th>\n",
       "    </tr>\n",
       "  </thead>\n",
       "  <tbody>\n",
       "    <tr>\n",
       "      <th>count</th>\n",
       "      <td>3.678000e+03</td>\n",
       "      <td>3678.000000</td>\n",
       "      <td>3678.000000</td>\n",
       "      <td>3678.000000</td>\n",
       "      <td>3678.000000</td>\n",
       "      <td>3678.000000</td>\n",
       "      <td>3678.000000</td>\n",
       "      <td>3678.000000</td>\n",
       "      <td>3678.000000</td>\n",
       "      <td>3.678000e+03</td>\n",
       "      <td>3678.000000</td>\n",
       "    </tr>\n",
       "    <tr>\n",
       "      <th>mean</th>\n",
       "      <td>6.759720e+05</td>\n",
       "      <td>66.049483</td>\n",
       "      <td>3197.150625</td>\n",
       "      <td>156.259108</td>\n",
       "      <td>40.108755</td>\n",
       "      <td>4.094517</td>\n",
       "      <td>2015.431213</td>\n",
       "      <td>6.164220</td>\n",
       "      <td>15.831158</td>\n",
       "      <td>2.405985e+05</td>\n",
       "      <td>0.069875</td>\n",
       "    </tr>\n",
       "    <tr>\n",
       "      <th>std</th>\n",
       "      <td>3.432732e+05</td>\n",
       "      <td>61.005755</td>\n",
       "      <td>9504.117010</td>\n",
       "      <td>935.452044</td>\n",
       "      <td>50.383346</td>\n",
       "      <td>6.053840</td>\n",
       "      <td>1.185317</td>\n",
       "      <td>3.380535</td>\n",
       "      <td>8.781086</td>\n",
       "      <td>1.001404e+06</td>\n",
       "      <td>0.271501</td>\n",
       "    </tr>\n",
       "    <tr>\n",
       "      <th>min</th>\n",
       "      <td>8.324000e+03</td>\n",
       "      <td>0.000000</td>\n",
       "      <td>0.000000</td>\n",
       "      <td>0.000000</td>\n",
       "      <td>0.000000</td>\n",
       "      <td>0.000000</td>\n",
       "      <td>2011.000000</td>\n",
       "      <td>1.000000</td>\n",
       "      <td>1.000000</td>\n",
       "      <td>0.000000e+00</td>\n",
       "      <td>0.000000</td>\n",
       "    </tr>\n",
       "    <tr>\n",
       "      <th>25%</th>\n",
       "      <td>4.076925e+05</td>\n",
       "      <td>20.000000</td>\n",
       "      <td>111.000000</td>\n",
       "      <td>4.000000</td>\n",
       "      <td>15.000000</td>\n",
       "      <td>1.000000</td>\n",
       "      <td>2015.000000</td>\n",
       "      <td>3.000000</td>\n",
       "      <td>8.000000</td>\n",
       "      <td>1.585000e+03</td>\n",
       "      <td>0.000000</td>\n",
       "    </tr>\n",
       "    <tr>\n",
       "      <th>50%</th>\n",
       "      <td>6.879170e+05</td>\n",
       "      <td>45.000000</td>\n",
       "      <td>911.500000</td>\n",
       "      <td>18.000000</td>\n",
       "      <td>25.000000</td>\n",
       "      <td>2.000000</td>\n",
       "      <td>2016.000000</td>\n",
       "      <td>6.000000</td>\n",
       "      <td>16.000000</td>\n",
       "      <td>2.306500e+04</td>\n",
       "      <td>0.000000</td>\n",
       "    </tr>\n",
       "    <tr>\n",
       "      <th>75%</th>\n",
       "      <td>9.613555e+05</td>\n",
       "      <td>95.000000</td>\n",
       "      <td>2546.000000</td>\n",
       "      <td>67.000000</td>\n",
       "      <td>45.750000</td>\n",
       "      <td>4.500000</td>\n",
       "      <td>2016.000000</td>\n",
       "      <td>9.000000</td>\n",
       "      <td>23.000000</td>\n",
       "      <td>1.187500e+05</td>\n",
       "      <td>0.000000</td>\n",
       "    </tr>\n",
       "    <tr>\n",
       "      <th>max</th>\n",
       "      <td>1.282064e+06</td>\n",
       "      <td>200.000000</td>\n",
       "      <td>268923.000000</td>\n",
       "      <td>27445.000000</td>\n",
       "      <td>779.000000</td>\n",
       "      <td>78.500000</td>\n",
       "      <td>2017.000000</td>\n",
       "      <td>12.000000</td>\n",
       "      <td>31.000000</td>\n",
       "      <td>2.431680e+07</td>\n",
       "      <td>2.000000</td>\n",
       "    </tr>\n",
       "  </tbody>\n",
       "</table>\n",
       "</div>"
      ],
      "text/plain": [
       "          course_id        price  num_subscribers   num_reviews  num_lectures  \\\n",
       "count  3.678000e+03  3678.000000      3678.000000   3678.000000   3678.000000   \n",
       "mean   6.759720e+05    66.049483      3197.150625    156.259108     40.108755   \n",
       "std    3.432732e+05    61.005755      9504.117010    935.452044     50.383346   \n",
       "min    8.324000e+03     0.000000         0.000000      0.000000      0.000000   \n",
       "25%    4.076925e+05    20.000000       111.000000      4.000000     15.000000   \n",
       "50%    6.879170e+05    45.000000       911.500000     18.000000     25.000000   \n",
       "75%    9.613555e+05    95.000000      2546.000000     67.000000     45.750000   \n",
       "max    1.282064e+06   200.000000    268923.000000  27445.000000    779.000000   \n",
       "\n",
       "       content_duration         year        month          day      Earnings  \\\n",
       "count       3678.000000  3678.000000  3678.000000  3678.000000  3.678000e+03   \n",
       "mean           4.094517  2015.431213     6.164220    15.831158  2.405985e+05   \n",
       "std            6.053840     1.185317     3.380535     8.781086  1.001404e+06   \n",
       "min            0.000000  2011.000000     1.000000     1.000000  0.000000e+00   \n",
       "25%            1.000000  2015.000000     3.000000     8.000000  1.585000e+03   \n",
       "50%            2.000000  2016.000000     6.000000    16.000000  2.306500e+04   \n",
       "75%            4.500000  2016.000000     9.000000    23.000000  1.187500e+05   \n",
       "max           78.500000  2017.000000    12.000000    31.000000  2.431680e+07   \n",
       "\n",
       "        Cluster_Id  \n",
       "count  3678.000000  \n",
       "mean      0.069875  \n",
       "std       0.271501  \n",
       "min       0.000000  \n",
       "25%       0.000000  \n",
       "50%       0.000000  \n",
       "75%       0.000000  \n",
       "max       2.000000  "
      ]
     },
     "execution_count": 202,
     "metadata": {},
     "output_type": "execute_result"
    }
   ],
   "source": [
    "df.describe()"
   ]
  },
  {
   "cell_type": "markdown",
   "id": "61fc8db5",
   "metadata": {},
   "source": [
    "Variables/parameters for creating a Logic to Scoring the course:\n",
    "    -Price: (+)On lower side\n",
    "        In this case, the prices are maximum Rs 200. Considering it as low, we ignore the price here\n",
    "    -Num_Subscribers: (+) on the higher side\n",
    "        This appears to be more since by default the user becomes a subsciber on taking up the course\n",
    "    -Num_Reviews: (+) on the higher side\n",
    "        Less than Subscribers but more important.\n",
    "    -Content Duration: (+) around the mean, rest(-)\n",
    "        We can consider courses that have duration more than 75 percentile i.e 4 hrs\n",
    "    -Number of Lectures: <250 is (+)    \n",
    "    Final Scoring:\n",
    "     Parameter 1: (Num_Reviews/Num_Subscribers): Helps in recognising a genuine subscriber to review course. Removes outliers\n",
    "     Parameter 2: Content Duration: courses that have duration more than 75 percentile i.e 4 hrs"
   ]
  },
  {
   "cell_type": "code",
   "execution_count": 205,
   "id": "bd8f5450",
   "metadata": {},
   "outputs": [],
   "source": [
    "#checking for parameter 1:\n",
    "df['Rev_Sub']=(df.num_reviews/df.num_subscribers)"
   ]
  },
  {
   "cell_type": "code",
   "execution_count": 208,
   "id": "96ce398d",
   "metadata": {},
   "outputs": [],
   "source": [
    "df['Rev_Sub']=df['Rev_Sub']*100"
   ]
  },
  {
   "cell_type": "code",
   "execution_count": 209,
   "id": "e50f2f13",
   "metadata": {},
   "outputs": [
    {
     "data": {
      "text/html": [
       "<div>\n",
       "<style scoped>\n",
       "    .dataframe tbody tr th:only-of-type {\n",
       "        vertical-align: middle;\n",
       "    }\n",
       "\n",
       "    .dataframe tbody tr th {\n",
       "        vertical-align: top;\n",
       "    }\n",
       "\n",
       "    .dataframe thead th {\n",
       "        text-align: right;\n",
       "    }\n",
       "</style>\n",
       "<table border=\"1\" class=\"dataframe\">\n",
       "  <thead>\n",
       "    <tr style=\"text-align: right;\">\n",
       "      <th></th>\n",
       "      <th>course_id</th>\n",
       "      <th>price</th>\n",
       "      <th>num_subscribers</th>\n",
       "      <th>num_reviews</th>\n",
       "      <th>num_lectures</th>\n",
       "      <th>content_duration</th>\n",
       "      <th>year</th>\n",
       "      <th>month</th>\n",
       "      <th>day</th>\n",
       "      <th>Earnings</th>\n",
       "      <th>Cluster_Id</th>\n",
       "      <th>Rev_Sub</th>\n",
       "    </tr>\n",
       "  </thead>\n",
       "  <tbody>\n",
       "    <tr>\n",
       "      <th>count</th>\n",
       "      <td>3.678000e+03</td>\n",
       "      <td>3678.000000</td>\n",
       "      <td>3678.000000</td>\n",
       "      <td>3678.000000</td>\n",
       "      <td>3678.000000</td>\n",
       "      <td>3678.000000</td>\n",
       "      <td>3678.000000</td>\n",
       "      <td>3678.000000</td>\n",
       "      <td>3678.000000</td>\n",
       "      <td>3.678000e+03</td>\n",
       "      <td>3678.000000</td>\n",
       "      <td>3608.000000</td>\n",
       "    </tr>\n",
       "    <tr>\n",
       "      <th>mean</th>\n",
       "      <td>6.759720e+05</td>\n",
       "      <td>66.049483</td>\n",
       "      <td>3197.150625</td>\n",
       "      <td>156.259108</td>\n",
       "      <td>40.108755</td>\n",
       "      <td>4.094517</td>\n",
       "      <td>2015.431213</td>\n",
       "      <td>6.164220</td>\n",
       "      <td>15.831158</td>\n",
       "      <td>2.405985e+05</td>\n",
       "      <td>0.069875</td>\n",
       "      <td>6.852699</td>\n",
       "    </tr>\n",
       "    <tr>\n",
       "      <th>std</th>\n",
       "      <td>3.432732e+05</td>\n",
       "      <td>61.005755</td>\n",
       "      <td>9504.117010</td>\n",
       "      <td>935.452044</td>\n",
       "      <td>50.383346</td>\n",
       "      <td>6.053840</td>\n",
       "      <td>1.185317</td>\n",
       "      <td>3.380535</td>\n",
       "      <td>8.781086</td>\n",
       "      <td>1.001404e+06</td>\n",
       "      <td>0.271501</td>\n",
       "      <td>10.143571</td>\n",
       "    </tr>\n",
       "    <tr>\n",
       "      <th>min</th>\n",
       "      <td>8.324000e+03</td>\n",
       "      <td>0.000000</td>\n",
       "      <td>0.000000</td>\n",
       "      <td>0.000000</td>\n",
       "      <td>0.000000</td>\n",
       "      <td>0.000000</td>\n",
       "      <td>2011.000000</td>\n",
       "      <td>1.000000</td>\n",
       "      <td>1.000000</td>\n",
       "      <td>0.000000e+00</td>\n",
       "      <td>0.000000</td>\n",
       "      <td>0.000000</td>\n",
       "    </tr>\n",
       "    <tr>\n",
       "      <th>25%</th>\n",
       "      <td>4.076925e+05</td>\n",
       "      <td>20.000000</td>\n",
       "      <td>111.000000</td>\n",
       "      <td>4.000000</td>\n",
       "      <td>15.000000</td>\n",
       "      <td>1.000000</td>\n",
       "      <td>2015.000000</td>\n",
       "      <td>3.000000</td>\n",
       "      <td>8.000000</td>\n",
       "      <td>1.585000e+03</td>\n",
       "      <td>0.000000</td>\n",
       "      <td>0.967976</td>\n",
       "    </tr>\n",
       "    <tr>\n",
       "      <th>50%</th>\n",
       "      <td>6.879170e+05</td>\n",
       "      <td>45.000000</td>\n",
       "      <td>911.500000</td>\n",
       "      <td>18.000000</td>\n",
       "      <td>25.000000</td>\n",
       "      <td>2.000000</td>\n",
       "      <td>2016.000000</td>\n",
       "      <td>6.000000</td>\n",
       "      <td>16.000000</td>\n",
       "      <td>2.306500e+04</td>\n",
       "      <td>0.000000</td>\n",
       "      <td>3.080378</td>\n",
       "    </tr>\n",
       "    <tr>\n",
       "      <th>75%</th>\n",
       "      <td>9.613555e+05</td>\n",
       "      <td>95.000000</td>\n",
       "      <td>2546.000000</td>\n",
       "      <td>67.000000</td>\n",
       "      <td>45.750000</td>\n",
       "      <td>4.500000</td>\n",
       "      <td>2016.000000</td>\n",
       "      <td>9.000000</td>\n",
       "      <td>23.000000</td>\n",
       "      <td>1.187500e+05</td>\n",
       "      <td>0.000000</td>\n",
       "      <td>9.434072</td>\n",
       "    </tr>\n",
       "    <tr>\n",
       "      <th>max</th>\n",
       "      <td>1.282064e+06</td>\n",
       "      <td>200.000000</td>\n",
       "      <td>268923.000000</td>\n",
       "      <td>27445.000000</td>\n",
       "      <td>779.000000</td>\n",
       "      <td>78.500000</td>\n",
       "      <td>2017.000000</td>\n",
       "      <td>12.000000</td>\n",
       "      <td>31.000000</td>\n",
       "      <td>2.431680e+07</td>\n",
       "      <td>2.000000</td>\n",
       "      <td>100.000000</td>\n",
       "    </tr>\n",
       "  </tbody>\n",
       "</table>\n",
       "</div>"
      ],
      "text/plain": [
       "          course_id        price  num_subscribers   num_reviews  num_lectures  \\\n",
       "count  3.678000e+03  3678.000000      3678.000000   3678.000000   3678.000000   \n",
       "mean   6.759720e+05    66.049483      3197.150625    156.259108     40.108755   \n",
       "std    3.432732e+05    61.005755      9504.117010    935.452044     50.383346   \n",
       "min    8.324000e+03     0.000000         0.000000      0.000000      0.000000   \n",
       "25%    4.076925e+05    20.000000       111.000000      4.000000     15.000000   \n",
       "50%    6.879170e+05    45.000000       911.500000     18.000000     25.000000   \n",
       "75%    9.613555e+05    95.000000      2546.000000     67.000000     45.750000   \n",
       "max    1.282064e+06   200.000000    268923.000000  27445.000000    779.000000   \n",
       "\n",
       "       content_duration         year        month          day      Earnings  \\\n",
       "count       3678.000000  3678.000000  3678.000000  3678.000000  3.678000e+03   \n",
       "mean           4.094517  2015.431213     6.164220    15.831158  2.405985e+05   \n",
       "std            6.053840     1.185317     3.380535     8.781086  1.001404e+06   \n",
       "min            0.000000  2011.000000     1.000000     1.000000  0.000000e+00   \n",
       "25%            1.000000  2015.000000     3.000000     8.000000  1.585000e+03   \n",
       "50%            2.000000  2016.000000     6.000000    16.000000  2.306500e+04   \n",
       "75%            4.500000  2016.000000     9.000000    23.000000  1.187500e+05   \n",
       "max           78.500000  2017.000000    12.000000    31.000000  2.431680e+07   \n",
       "\n",
       "        Cluster_Id      Rev_Sub  \n",
       "count  3678.000000  3608.000000  \n",
       "mean      0.069875     6.852699  \n",
       "std       0.271501    10.143571  \n",
       "min       0.000000     0.000000  \n",
       "25%       0.000000     0.967976  \n",
       "50%       0.000000     3.080378  \n",
       "75%       0.000000     9.434072  \n",
       "max       2.000000   100.000000  "
      ]
     },
     "execution_count": 209,
     "metadata": {},
     "output_type": "execute_result"
    }
   ],
   "source": [
    "df.describe()"
   ]
  },
  {
   "cell_type": "code",
   "execution_count": 210,
   "id": "d1e508eb",
   "metadata": {},
   "outputs": [
    {
     "data": {
      "text/plain": [
       "<AxesSubplot:>"
      ]
     },
     "execution_count": 210,
     "metadata": {},
     "output_type": "execute_result"
    },
    {
     "data": {
      "image/png": "[encoded data removed]",
      "text/plain": [
       "<Figure size 432x288 with 1 Axes>"
      ]
     },
     "metadata": {
      "needs_background": "light"
     },
     "output_type": "display_data"
    }
   ],
   "source": [
    "df.Rev_Sub.plot(kind='box')"
   ]
  },
  {
   "cell_type": "code",
   "execution_count": 227,
   "id": "6e61cc10",
   "metadata": {},
   "outputs": [],
   "source": [
    "Source=df.loc[(df['Rev_Sub']>5) & (df['content_duration']>4) & (df['num_lectures']<250)]"
   ]
  },
  {
   "cell_type": "code",
   "execution_count": 228,
   "id": "142d3cc8",
   "metadata": {},
   "outputs": [
    {
     "data": {
      "text/plain": [
       "(513, 19)"
      ]
     },
     "execution_count": 228,
     "metadata": {},
     "output_type": "execute_result"
    }
   ],
   "source": [
    "Source.shape"
   ]
  },
  {
   "cell_type": "code",
   "execution_count": 229,
   "id": "a1db2afb",
   "metadata": {},
   "outputs": [
    {
     "data": {
      "text/html": [
       "<div>\n",
       "<style scoped>\n",
       "    .dataframe tbody tr th:only-of-type {\n",
       "        vertical-align: middle;\n",
       "    }\n",
       "\n",
       "    .dataframe tbody tr th {\n",
       "        vertical-align: top;\n",
       "    }\n",
       "\n",
       "    .dataframe thead th {\n",
       "        text-align: right;\n",
       "    }\n",
       "</style>\n",
       "<table border=\"1\" class=\"dataframe\">\n",
       "  <thead>\n",
       "    <tr style=\"text-align: right;\">\n",
       "      <th></th>\n",
       "      <th>course_id</th>\n",
       "      <th>course_title</th>\n",
       "      <th>url</th>\n",
       "      <th>is_paid</th>\n",
       "      <th>price</th>\n",
       "      <th>num_subscribers</th>\n",
       "      <th>num_reviews</th>\n",
       "      <th>num_lectures</th>\n",
       "      <th>level</th>\n",
       "      <th>content_duration</th>\n",
       "      <th>published_timestamp</th>\n",
       "      <th>subject</th>\n",
       "      <th>published_date</th>\n",
       "      <th>year</th>\n",
       "      <th>month</th>\n",
       "      <th>day</th>\n",
       "      <th>Earnings</th>\n",
       "      <th>Cluster_Id</th>\n",
       "      <th>Rev_Sub</th>\n",
       "    </tr>\n",
       "  </thead>\n",
       "  <tbody>\n",
       "    <tr>\n",
       "      <th>14</th>\n",
       "      <td>1196544</td>\n",
       "      <td>Python Algo Trading: Sentiment Trading with News</td>\n",
       "      <td>https://www.udemy.com/hedge-fund-strategy-trad...</td>\n",
       "      <td>True</td>\n",
       "      <td>200</td>\n",
       "      <td>294</td>\n",
       "      <td>19</td>\n",
       "      <td>42</td>\n",
       "      <td>All Levels</td>\n",
       "      <td>7.0</td>\n",
       "      <td>2017-04-28T16:41:44Z</td>\n",
       "      <td>Business Finance</td>\n",
       "      <td>2017-04-28</td>\n",
       "      <td>2017</td>\n",
       "      <td>4</td>\n",
       "      <td>28</td>\n",
       "      <td>58800</td>\n",
       "      <td>0</td>\n",
       "      <td>6.462585</td>\n",
       "    </tr>\n",
       "    <tr>\n",
       "      <th>25</th>\n",
       "      <td>383414</td>\n",
       "      <td>Beginner to Pro in PowerPoint: Complete PowerP...</td>\n",
       "      <td>https://www.udemy.com/powerpoint-master-class-...</td>\n",
       "      <td>True</td>\n",
       "      <td>150</td>\n",
       "      <td>5786</td>\n",
       "      <td>518</td>\n",
       "      <td>50</td>\n",
       "      <td>All Levels</td>\n",
       "      <td>5.0</td>\n",
       "      <td>2015-01-31T15:34:05Z</td>\n",
       "      <td>Business Finance</td>\n",
       "      <td>2015-01-31</td>\n",
       "      <td>2015</td>\n",
       "      <td>1</td>\n",
       "      <td>31</td>\n",
       "      <td>867900</td>\n",
       "      <td>0</td>\n",
       "      <td>8.952644</td>\n",
       "    </tr>\n",
       "  </tbody>\n",
       "</table>\n",
       "</div>"
      ],
      "text/plain": [
       "    course_id                                       course_title  \\\n",
       "14    1196544   Python Algo Trading: Sentiment Trading with News   \n",
       "25     383414  Beginner to Pro in PowerPoint: Complete PowerP...   \n",
       "\n",
       "                                                  url  is_paid  price  \\\n",
       "14  https://www.udemy.com/hedge-fund-strategy-trad...     True    200   \n",
       "25  https://www.udemy.com/powerpoint-master-class-...     True    150   \n",
       "\n",
       "    num_subscribers  num_reviews  num_lectures       level  content_duration  \\\n",
       "14              294           19            42  All Levels               7.0   \n",
       "25             5786          518            50  All Levels               5.0   \n",
       "\n",
       "     published_timestamp           subject published_date  year  month  day  \\\n",
       "14  2017-04-28T16:41:44Z  Business Finance     2017-04-28  2017      4   28   \n",
       "25  2015-01-31T15:34:05Z  Business Finance     2015-01-31  2015      1   31   \n",
       "\n",
       "    Earnings  Cluster_Id   Rev_Sub  \n",
       "14     58800           0  6.462585  \n",
       "25    867900           0  8.952644  "
      ]
     },
     "execution_count": 229,
     "metadata": {},
     "output_type": "execute_result"
    }
   ],
   "source": [
    "Source.head(2)"
   ]
  },
  {
   "cell_type": "code",
   "execution_count": 230,
   "id": "7d48d3e9",
   "metadata": {},
   "outputs": [
    {
     "data": {
      "text/plain": [
       "subject\n",
       "Business Finance       125\n",
       "Graphic Design          84\n",
       "Musical Instruments     56\n",
       "Web Development        248\n",
       "Name: course_id, dtype: int64"
      ]
     },
     "execution_count": 230,
     "metadata": {},
     "output_type": "execute_result"
    }
   ],
   "source": [
    "Source.groupby('subject')['course_id'].count()"
   ]
  },
  {
   "cell_type": "code",
   "execution_count": null,
   "id": "cea6ba7c",
   "metadata": {},
   "outputs": [],
   "source": []
  }
 ],
 "metadata": {
  "kernelspec": {
   "display_name": "Python 3 (ipykernel)",
   "language": "python",
   "name": "python3"
  },
  "language_info": {
   "codemirror_mode": {
    "name": "ipython",
    "version": 3
   },
   "file_extension": ".py",
   "mimetype": "text/x-python",
   "name": "python",
   "nbconvert_exporter": "python",
   "pygments_lexer": "ipython3",
   "version": "3.9.7"
  }
 },
 "nbformat": 4,
 "nbformat_minor": 5
}
