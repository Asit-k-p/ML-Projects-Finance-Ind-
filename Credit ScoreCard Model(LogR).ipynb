{
 "cells": [
  {
   "cell_type": "code",
   "execution_count": 1,
   "id": "4ac500e6",
   "metadata": {},
   "outputs": [],
   "source": [
    "import numpy as np\n",
    "import pandas as pd\n",
    "import matplotlib.pyplot as plt"
   ]
  },
  {
   "cell_type": "code",
   "execution_count": 2,
   "id": "f78522c3",
   "metadata": {},
   "outputs": [],
   "source": [
    "Bank=pd.read_csv('C:/Users/user/Desktop/intellipaat/Datasets/bank-additional-full.csv',sep=';')"
   ]
  },
  {
   "cell_type": "code",
   "execution_count": 3,
   "id": "145080ce",
   "metadata": {},
   "outputs": [
    {
     "name": "stdout",
     "output_type": "stream",
     "text": [
      "<class 'pandas.core.frame.DataFrame'>\n",
      "RangeIndex: 41199 entries, 0 to 41198\n",
      "Data columns (total 21 columns):\n",
      " #   Column          Non-Null Count  Dtype  \n",
      "---  ------          --------------  -----  \n",
      " 0   age             41195 non-null  float64\n",
      " 1   job             41194 non-null  object \n",
      " 2   marital         41194 non-null  object \n",
      " 3   education       41194 non-null  object \n",
      " 4   default         41195 non-null  object \n",
      " 5   housing         41196 non-null  object \n",
      " 6   loan            41195 non-null  object \n",
      " 7   contact         41195 non-null  object \n",
      " 8   month           41196 non-null  object \n",
      " 9   day_of_week     41196 non-null  object \n",
      " 10  duration        41196 non-null  float64\n",
      " 11  campaign        41196 non-null  float64\n",
      " 12  pdays           41196 non-null  float64\n",
      " 13  previous        41196 non-null  float64\n",
      " 14  poutcome        41194 non-null  object \n",
      " 15  emp.var.rate    41196 non-null  float64\n",
      " 16  cons.price.idx  41195 non-null  float64\n",
      " 17  cons.conf.idx   41196 non-null  float64\n",
      " 18  euribor3m       41196 non-null  float64\n",
      " 19  nr.employed     41196 non-null  float64\n",
      " 20  y               41196 non-null  object \n",
      "dtypes: float64(10), object(11)\n",
      "memory usage: 6.6+ MB\n"
     ]
    }
   ],
   "source": [
    "Bank.info()"
   ]
  },
  {
   "cell_type": "code",
   "execution_count": 4,
   "id": "4ef4b487",
   "metadata": {},
   "outputs": [],
   "source": [
    "Bank.drop(labels='default', axis=1,inplace=True)"
   ]
  },
  {
   "cell_type": "code",
   "execution_count": 5,
   "id": "c136bf2b",
   "metadata": {},
   "outputs": [
    {
     "data": {
      "text/html": [
       "<div>\n",
       "<style scoped>\n",
       "    .dataframe tbody tr th:only-of-type {\n",
       "        vertical-align: middle;\n",
       "    }\n",
       "\n",
       "    .dataframe tbody tr th {\n",
       "        vertical-align: top;\n",
       "    }\n",
       "\n",
       "    .dataframe thead th {\n",
       "        text-align: right;\n",
       "    }\n",
       "</style>\n",
       "<table border=\"1\" class=\"dataframe\">\n",
       "  <thead>\n",
       "    <tr style=\"text-align: right;\">\n",
       "      <th></th>\n",
       "      <th>age</th>\n",
       "      <th>job</th>\n",
       "      <th>marital</th>\n",
       "      <th>education</th>\n",
       "      <th>housing</th>\n",
       "      <th>loan</th>\n",
       "      <th>contact</th>\n",
       "      <th>month</th>\n",
       "      <th>day_of_week</th>\n",
       "      <th>duration</th>\n",
       "      <th>campaign</th>\n",
       "      <th>pdays</th>\n",
       "      <th>previous</th>\n",
       "      <th>poutcome</th>\n",
       "      <th>emp.var.rate</th>\n",
       "      <th>cons.price.idx</th>\n",
       "      <th>cons.conf.idx</th>\n",
       "      <th>euribor3m</th>\n",
       "      <th>nr.employed</th>\n",
       "      <th>y</th>\n",
       "    </tr>\n",
       "  </thead>\n",
       "  <tbody>\n",
       "    <tr>\n",
       "      <th>0</th>\n",
       "      <td>56.0</td>\n",
       "      <td>housemaid</td>\n",
       "      <td>married</td>\n",
       "      <td>basic.4y</td>\n",
       "      <td>no</td>\n",
       "      <td>no</td>\n",
       "      <td>telephone</td>\n",
       "      <td>may</td>\n",
       "      <td>mon</td>\n",
       "      <td>261.0</td>\n",
       "      <td>1.0</td>\n",
       "      <td>999.0</td>\n",
       "      <td>0.0</td>\n",
       "      <td>nonexistent</td>\n",
       "      <td>1.1</td>\n",
       "      <td>93.994</td>\n",
       "      <td>-36.4</td>\n",
       "      <td>4.857</td>\n",
       "      <td>5191.0</td>\n",
       "      <td>no</td>\n",
       "    </tr>\n",
       "    <tr>\n",
       "      <th>1</th>\n",
       "      <td>57.0</td>\n",
       "      <td>services</td>\n",
       "      <td>married</td>\n",
       "      <td>high.school</td>\n",
       "      <td>no</td>\n",
       "      <td>no</td>\n",
       "      <td>telephone</td>\n",
       "      <td>may</td>\n",
       "      <td>mon</td>\n",
       "      <td>149.0</td>\n",
       "      <td>1.0</td>\n",
       "      <td>999.0</td>\n",
       "      <td>0.0</td>\n",
       "      <td>nonexistent</td>\n",
       "      <td>1.1</td>\n",
       "      <td>93.994</td>\n",
       "      <td>-36.4</td>\n",
       "      <td>4.857</td>\n",
       "      <td>5191.0</td>\n",
       "      <td>no</td>\n",
       "    </tr>\n",
       "  </tbody>\n",
       "</table>\n",
       "</div>"
      ],
      "text/plain": [
       "    age        job  marital    education housing loan    contact month  \\\n",
       "0  56.0  housemaid  married     basic.4y      no   no  telephone   may   \n",
       "1  57.0   services  married  high.school      no   no  telephone   may   \n",
       "\n",
       "  day_of_week  duration  campaign  pdays  previous     poutcome  emp.var.rate  \\\n",
       "0         mon     261.0       1.0  999.0       0.0  nonexistent           1.1   \n",
       "1         mon     149.0       1.0  999.0       0.0  nonexistent           1.1   \n",
       "\n",
       "   cons.price.idx  cons.conf.idx  euribor3m  nr.employed   y  \n",
       "0          93.994          -36.4      4.857       5191.0  no  \n",
       "1          93.994          -36.4      4.857       5191.0  no  "
      ]
     },
     "execution_count": 5,
     "metadata": {},
     "output_type": "execute_result"
    }
   ],
   "source": [
    "Bank.head(2)"
   ]
  },
  {
   "cell_type": "code",
   "execution_count": 6,
   "id": "9d9bf234",
   "metadata": {},
   "outputs": [
    {
     "data": {
      "text/plain": [
       "no     36556\n",
       "yes     4640\n",
       "Name: y, dtype: int64"
      ]
     },
     "execution_count": 6,
     "metadata": {},
     "output_type": "execute_result"
    }
   ],
   "source": [
    "Bank.y.value_counts()"
   ]
  },
  {
   "cell_type": "code",
   "execution_count": 7,
   "id": "21e6ba32",
   "metadata": {},
   "outputs": [],
   "source": [
    "Bank.dropna(inplace=True)"
   ]
  },
  {
   "cell_type": "code",
   "execution_count": 8,
   "id": "a5b7ef6c",
   "metadata": {},
   "outputs": [],
   "source": [
    "Bank.rename(columns={'y':'Default'}, inplace = True)"
   ]
  },
  {
   "cell_type": "code",
   "execution_count": 9,
   "id": "ce0338f4",
   "metadata": {},
   "outputs": [
    {
     "data": {
      "text/plain": [
       "(41190, 20)"
      ]
     },
     "execution_count": 9,
     "metadata": {},
     "output_type": "execute_result"
    }
   ],
   "source": [
    "Bank.shape"
   ]
  },
  {
   "cell_type": "code",
   "execution_count": null,
   "id": "d30fc170",
   "metadata": {},
   "outputs": [],
   "source": [
    "#remove outliers\n",
    "\n",
    "\n"
   ]
  },
  {
   "cell_type": "code",
   "execution_count": 10,
   "id": "00d8b54a",
   "metadata": {},
   "outputs": [],
   "source": [
    "Bank_IND=Bank.iloc[0: , 0:19]"
   ]
  },
  {
   "cell_type": "code",
   "execution_count": 11,
   "id": "d4d59e00",
   "metadata": {},
   "outputs": [
    {
     "data": {
      "text/html": [
       "<div>\n",
       "<style scoped>\n",
       "    .dataframe tbody tr th:only-of-type {\n",
       "        vertical-align: middle;\n",
       "    }\n",
       "\n",
       "    .dataframe tbody tr th {\n",
       "        vertical-align: top;\n",
       "    }\n",
       "\n",
       "    .dataframe thead th {\n",
       "        text-align: right;\n",
       "    }\n",
       "</style>\n",
       "<table border=\"1\" class=\"dataframe\">\n",
       "  <thead>\n",
       "    <tr style=\"text-align: right;\">\n",
       "      <th></th>\n",
       "      <th>age</th>\n",
       "      <th>job</th>\n",
       "      <th>marital</th>\n",
       "      <th>education</th>\n",
       "      <th>housing</th>\n",
       "      <th>loan</th>\n",
       "      <th>contact</th>\n",
       "      <th>month</th>\n",
       "      <th>day_of_week</th>\n",
       "      <th>duration</th>\n",
       "      <th>campaign</th>\n",
       "      <th>pdays</th>\n",
       "      <th>previous</th>\n",
       "      <th>poutcome</th>\n",
       "      <th>emp.var.rate</th>\n",
       "      <th>cons.price.idx</th>\n",
       "      <th>cons.conf.idx</th>\n",
       "      <th>euribor3m</th>\n",
       "      <th>nr.employed</th>\n",
       "    </tr>\n",
       "  </thead>\n",
       "  <tbody>\n",
       "    <tr>\n",
       "      <th>0</th>\n",
       "      <td>56.0</td>\n",
       "      <td>housemaid</td>\n",
       "      <td>married</td>\n",
       "      <td>basic.4y</td>\n",
       "      <td>no</td>\n",
       "      <td>no</td>\n",
       "      <td>telephone</td>\n",
       "      <td>may</td>\n",
       "      <td>mon</td>\n",
       "      <td>261.0</td>\n",
       "      <td>1.0</td>\n",
       "      <td>999.0</td>\n",
       "      <td>0.0</td>\n",
       "      <td>nonexistent</td>\n",
       "      <td>1.1</td>\n",
       "      <td>93.994</td>\n",
       "      <td>-36.4</td>\n",
       "      <td>4.857</td>\n",
       "      <td>5191.0</td>\n",
       "    </tr>\n",
       "    <tr>\n",
       "      <th>1</th>\n",
       "      <td>57.0</td>\n",
       "      <td>services</td>\n",
       "      <td>married</td>\n",
       "      <td>high.school</td>\n",
       "      <td>no</td>\n",
       "      <td>no</td>\n",
       "      <td>telephone</td>\n",
       "      <td>may</td>\n",
       "      <td>mon</td>\n",
       "      <td>149.0</td>\n",
       "      <td>1.0</td>\n",
       "      <td>999.0</td>\n",
       "      <td>0.0</td>\n",
       "      <td>nonexistent</td>\n",
       "      <td>1.1</td>\n",
       "      <td>93.994</td>\n",
       "      <td>-36.4</td>\n",
       "      <td>4.857</td>\n",
       "      <td>5191.0</td>\n",
       "    </tr>\n",
       "  </tbody>\n",
       "</table>\n",
       "</div>"
      ],
      "text/plain": [
       "    age        job  marital    education housing loan    contact month  \\\n",
       "0  56.0  housemaid  married     basic.4y      no   no  telephone   may   \n",
       "1  57.0   services  married  high.school      no   no  telephone   may   \n",
       "\n",
       "  day_of_week  duration  campaign  pdays  previous     poutcome  emp.var.rate  \\\n",
       "0         mon     261.0       1.0  999.0       0.0  nonexistent           1.1   \n",
       "1         mon     149.0       1.0  999.0       0.0  nonexistent           1.1   \n",
       "\n",
       "   cons.price.idx  cons.conf.idx  euribor3m  nr.employed  \n",
       "0          93.994          -36.4      4.857       5191.0  \n",
       "1          93.994          -36.4      4.857       5191.0  "
      ]
     },
     "execution_count": 11,
     "metadata": {},
     "output_type": "execute_result"
    }
   ],
   "source": [
    "Bank_IND.head(2)"
   ]
  },
  {
   "cell_type": "code",
   "execution_count": 12,
   "id": "1f024523",
   "metadata": {},
   "outputs": [
    {
     "data": {
      "text/plain": [
       "dtype('float64')"
      ]
     },
     "execution_count": 12,
     "metadata": {},
     "output_type": "execute_result"
    }
   ],
   "source": [
    "Bank_IND['age'].dtype"
   ]
  },
  {
   "cell_type": "code",
   "execution_count": 13,
   "id": "7d186991",
   "metadata": {},
   "outputs": [],
   "source": [
    "OBJlist=[]\n",
    "for col in Bank_IND.columns:\n",
    "    if(Bank_IND[col].dtype=='object'):\n",
    "        OBJlist.append(col)"
   ]
  },
  {
   "cell_type": "code",
   "execution_count": 14,
   "id": "3c1c0e0b",
   "metadata": {},
   "outputs": [],
   "source": [
    "INTlist=[]\n",
    "for col in Bank_IND.columns:\n",
    "    if(Bank_IND[col].dtype!=\"object\"):\n",
    "        INTlist.append(col)"
   ]
  },
  {
   "cell_type": "code",
   "execution_count": 15,
   "id": "f8675bab",
   "metadata": {},
   "outputs": [],
   "source": [
    "Bank_DEP=Bank.Default"
   ]
  },
  {
   "cell_type": "code",
   "execution_count": 16,
   "id": "4337b713",
   "metadata": {},
   "outputs": [],
   "source": [
    "from sklearn.preprocessing import LabelEncoder\n",
    "labelencoder=LabelEncoder()"
   ]
  },
  {
   "cell_type": "code",
   "execution_count": 17,
   "id": "f0dda90f",
   "metadata": {},
   "outputs": [],
   "source": [
    "for i in OBJlist:\n",
    "    Bank_IND[i]=labelencoder.fit_transform(Bank_IND[i])"
   ]
  },
  {
   "cell_type": "code",
   "execution_count": 18,
   "id": "c3ef62fb",
   "metadata": {},
   "outputs": [
    {
     "data": {
      "text/html": [
       "<div>\n",
       "<style scoped>\n",
       "    .dataframe tbody tr th:only-of-type {\n",
       "        vertical-align: middle;\n",
       "    }\n",
       "\n",
       "    .dataframe tbody tr th {\n",
       "        vertical-align: top;\n",
       "    }\n",
       "\n",
       "    .dataframe thead th {\n",
       "        text-align: right;\n",
       "    }\n",
       "</style>\n",
       "<table border=\"1\" class=\"dataframe\">\n",
       "  <thead>\n",
       "    <tr style=\"text-align: right;\">\n",
       "      <th></th>\n",
       "      <th>age</th>\n",
       "      <th>job</th>\n",
       "      <th>marital</th>\n",
       "      <th>education</th>\n",
       "      <th>housing</th>\n",
       "      <th>loan</th>\n",
       "      <th>contact</th>\n",
       "      <th>month</th>\n",
       "      <th>day_of_week</th>\n",
       "      <th>duration</th>\n",
       "      <th>campaign</th>\n",
       "      <th>pdays</th>\n",
       "      <th>previous</th>\n",
       "      <th>poutcome</th>\n",
       "      <th>emp.var.rate</th>\n",
       "      <th>cons.price.idx</th>\n",
       "      <th>cons.conf.idx</th>\n",
       "      <th>euribor3m</th>\n",
       "      <th>nr.employed</th>\n",
       "    </tr>\n",
       "  </thead>\n",
       "  <tbody>\n",
       "    <tr>\n",
       "      <th>0</th>\n",
       "      <td>56.0</td>\n",
       "      <td>3</td>\n",
       "      <td>1</td>\n",
       "      <td>0</td>\n",
       "      <td>0</td>\n",
       "      <td>0</td>\n",
       "      <td>1</td>\n",
       "      <td>6</td>\n",
       "      <td>1</td>\n",
       "      <td>261.0</td>\n",
       "      <td>1.0</td>\n",
       "      <td>999.0</td>\n",
       "      <td>0.0</td>\n",
       "      <td>1</td>\n",
       "      <td>1.1</td>\n",
       "      <td>93.994</td>\n",
       "      <td>-36.4</td>\n",
       "      <td>4.857</td>\n",
       "      <td>5191.0</td>\n",
       "    </tr>\n",
       "    <tr>\n",
       "      <th>1</th>\n",
       "      <td>57.0</td>\n",
       "      <td>7</td>\n",
       "      <td>1</td>\n",
       "      <td>3</td>\n",
       "      <td>0</td>\n",
       "      <td>0</td>\n",
       "      <td>1</td>\n",
       "      <td>6</td>\n",
       "      <td>1</td>\n",
       "      <td>149.0</td>\n",
       "      <td>1.0</td>\n",
       "      <td>999.0</td>\n",
       "      <td>0.0</td>\n",
       "      <td>1</td>\n",
       "      <td>1.1</td>\n",
       "      <td>93.994</td>\n",
       "      <td>-36.4</td>\n",
       "      <td>4.857</td>\n",
       "      <td>5191.0</td>\n",
       "    </tr>\n",
       "  </tbody>\n",
       "</table>\n",
       "</div>"
      ],
      "text/plain": [
       "    age  job  marital  education  housing  loan  contact  month  day_of_week  \\\n",
       "0  56.0    3        1          0        0     0        1      6            1   \n",
       "1  57.0    7        1          3        0     0        1      6            1   \n",
       "\n",
       "   duration  campaign  pdays  previous  poutcome  emp.var.rate  \\\n",
       "0     261.0       1.0  999.0       0.0         1           1.1   \n",
       "1     149.0       1.0  999.0       0.0         1           1.1   \n",
       "\n",
       "   cons.price.idx  cons.conf.idx  euribor3m  nr.employed  \n",
       "0          93.994          -36.4      4.857       5191.0  \n",
       "1          93.994          -36.4      4.857       5191.0  "
      ]
     },
     "execution_count": 18,
     "metadata": {},
     "output_type": "execute_result"
    }
   ],
   "source": [
    "Bank_IND.head(2)"
   ]
  },
  {
   "cell_type": "code",
   "execution_count": 19,
   "id": "485df8d3",
   "metadata": {},
   "outputs": [],
   "source": [
    "#Standard Scaler\n",
    "from sklearn.preprocessing import StandardScaler\n",
    "scaler = StandardScaler()"
   ]
  },
  {
   "cell_type": "code",
   "execution_count": 20,
   "id": "1ca8d430",
   "metadata": {},
   "outputs": [],
   "source": [
    "Bank_IND[INTlist]=scaler.fit_transform(Bank_IND[INTlist])"
   ]
  },
  {
   "cell_type": "code",
   "execution_count": 21,
   "id": "b914b1ed",
   "metadata": {},
   "outputs": [
    {
     "data": {
      "text/html": [
       "<div>\n",
       "<style scoped>\n",
       "    .dataframe tbody tr th:only-of-type {\n",
       "        vertical-align: middle;\n",
       "    }\n",
       "\n",
       "    .dataframe tbody tr th {\n",
       "        vertical-align: top;\n",
       "    }\n",
       "\n",
       "    .dataframe thead th {\n",
       "        text-align: right;\n",
       "    }\n",
       "</style>\n",
       "<table border=\"1\" class=\"dataframe\">\n",
       "  <thead>\n",
       "    <tr style=\"text-align: right;\">\n",
       "      <th></th>\n",
       "      <th>age</th>\n",
       "      <th>job</th>\n",
       "      <th>marital</th>\n",
       "      <th>education</th>\n",
       "      <th>housing</th>\n",
       "      <th>loan</th>\n",
       "      <th>contact</th>\n",
       "      <th>month</th>\n",
       "      <th>day_of_week</th>\n",
       "      <th>duration</th>\n",
       "      <th>campaign</th>\n",
       "      <th>pdays</th>\n",
       "      <th>previous</th>\n",
       "      <th>poutcome</th>\n",
       "      <th>emp.var.rate</th>\n",
       "      <th>cons.price.idx</th>\n",
       "      <th>cons.conf.idx</th>\n",
       "      <th>euribor3m</th>\n",
       "      <th>nr.employed</th>\n",
       "    </tr>\n",
       "  </thead>\n",
       "  <tbody>\n",
       "    <tr>\n",
       "      <th>0</th>\n",
       "      <td>1.532170</td>\n",
       "      <td>3</td>\n",
       "      <td>1</td>\n",
       "      <td>0</td>\n",
       "      <td>0</td>\n",
       "      <td>0</td>\n",
       "      <td>1</td>\n",
       "      <td>6</td>\n",
       "      <td>1</td>\n",
       "      <td>0.010475</td>\n",
       "      <td>-0.565943</td>\n",
       "      <td>0.195409</td>\n",
       "      <td>-0.34956</td>\n",
       "      <td>1</td>\n",
       "      <td>0.648136</td>\n",
       "      <td>0.722566</td>\n",
       "      <td>0.88647</td>\n",
       "      <td>0.712511</td>\n",
       "      <td>0.331761</td>\n",
       "    </tr>\n",
       "    <tr>\n",
       "      <th>1</th>\n",
       "      <td>1.628088</td>\n",
       "      <td>7</td>\n",
       "      <td>1</td>\n",
       "      <td>3</td>\n",
       "      <td>0</td>\n",
       "      <td>0</td>\n",
       "      <td>1</td>\n",
       "      <td>6</td>\n",
       "      <td>1</td>\n",
       "      <td>-0.421507</td>\n",
       "      <td>-0.565943</td>\n",
       "      <td>0.195409</td>\n",
       "      <td>-0.34956</td>\n",
       "      <td>1</td>\n",
       "      <td>0.648136</td>\n",
       "      <td>0.722566</td>\n",
       "      <td>0.88647</td>\n",
       "      <td>0.712511</td>\n",
       "      <td>0.331761</td>\n",
       "    </tr>\n",
       "  </tbody>\n",
       "</table>\n",
       "</div>"
      ],
      "text/plain": [
       "        age  job  marital  education  housing  loan  contact  month  \\\n",
       "0  1.532170    3        1          0        0     0        1      6   \n",
       "1  1.628088    7        1          3        0     0        1      6   \n",
       "\n",
       "   day_of_week  duration  campaign     pdays  previous  poutcome  \\\n",
       "0            1  0.010475 -0.565943  0.195409  -0.34956         1   \n",
       "1            1 -0.421507 -0.565943  0.195409  -0.34956         1   \n",
       "\n",
       "   emp.var.rate  cons.price.idx  cons.conf.idx  euribor3m  nr.employed  \n",
       "0      0.648136        0.722566        0.88647   0.712511     0.331761  \n",
       "1      0.648136        0.722566        0.88647   0.712511     0.331761  "
      ]
     },
     "execution_count": 21,
     "metadata": {},
     "output_type": "execute_result"
    }
   ],
   "source": [
    "Bank_IND.head(2)"
   ]
  },
  {
   "cell_type": "code",
   "execution_count": 22,
   "id": "f002a6aa",
   "metadata": {},
   "outputs": [],
   "source": [
    "#VIF\n",
    "from statsmodels.stats.outliers_influence import variance_inflation_factor"
   ]
  },
  {
   "cell_type": "code",
   "execution_count": 23,
   "id": "1f803831",
   "metadata": {},
   "outputs": [
    {
     "data": {
      "text/plain": [
       "Index(['age', 'job', 'marital', 'education', 'housing', 'loan', 'contact',\n",
       "       'month', 'day_of_week', 'duration', 'campaign', 'pdays', 'previous',\n",
       "       'poutcome', 'emp.var.rate', 'cons.price.idx', 'cons.conf.idx',\n",
       "       'euribor3m', 'nr.employed'],\n",
       "      dtype='object')"
      ]
     },
     "execution_count": 23,
     "metadata": {},
     "output_type": "execute_result"
    }
   ],
   "source": [
    "Bank_IND.columns"
   ]
  },
  {
   "cell_type": "code",
   "execution_count": 24,
   "id": "c3209557",
   "metadata": {},
   "outputs": [
    {
     "name": "stdout",
     "output_type": "stream",
     "text": [
      "           columns        vif\n",
      "0              age   1.191405\n",
      "1              job   2.088266\n",
      "2          marital   5.193862\n",
      "3        education   4.089287\n",
      "4          housing   2.160165\n",
      "5             loan   1.203238\n",
      "6          contact   3.619206\n",
      "7            month   6.885872\n",
      "8      day_of_week   2.963439\n",
      "9         duration   1.011995\n",
      "10        campaign   1.040654\n",
      "11           pdays   3.396866\n",
      "12        previous   3.179326\n",
      "13        poutcome  13.234624\n",
      "14    emp.var.rate  42.522799\n",
      "15  cons.price.idx   9.652959\n",
      "16   cons.conf.idx   3.547529\n",
      "17       euribor3m  90.815649\n",
      "18     nr.employed  41.011647\n"
     ]
    }
   ],
   "source": [
    "X=Bank_IND\n",
    "vif_Bank=pd.DataFrame()\n",
    "vif_Bank[\"columns\"]=X.columns\n",
    "vif_Bank[\"vif\"]=[variance_inflation_factor(X.values,i) for i in range(len(X.columns))]\n",
    "print(vif_Bank)"
   ]
  },
  {
   "cell_type": "code",
   "execution_count": 25,
   "id": "1aeeda82",
   "metadata": {},
   "outputs": [],
   "source": [
    "Bank_IND.drop(labels='nr.employed', axis=1, inplace=True)"
   ]
  },
  {
   "cell_type": "code",
   "execution_count": 26,
   "id": "0e2789b2",
   "metadata": {},
   "outputs": [
    {
     "name": "stdout",
     "output_type": "stream",
     "text": [
      "           columns        vif\n",
      "0              age   1.191400\n",
      "1              job   2.088260\n",
      "2          marital   5.177028\n",
      "3        education   4.089247\n",
      "4          housing   2.160158\n",
      "5             loan   1.202942\n",
      "6          contact   3.294751\n",
      "7            month   5.445067\n",
      "8      day_of_week   2.961822\n",
      "9         duration   1.011716\n",
      "10        campaign   1.036441\n",
      "11           pdays   3.341479\n",
      "12        previous   3.169340\n",
      "13        poutcome  12.925942\n",
      "14    emp.var.rate  42.521210\n",
      "15  cons.price.idx   5.195196\n",
      "16   cons.conf.idx   1.415160\n",
      "17       euribor3m  32.537198\n"
     ]
    }
   ],
   "source": [
    "X=Bank_IND\n",
    "vif_Bank=pd.DataFrame()\n",
    "vif_Bank[\"columns\"]=X.columns\n",
    "vif_Bank[\"vif\"]=[variance_inflation_factor(X.values,i) for i in range(len(X.columns))]\n",
    "print(vif_Bank)"
   ]
  },
  {
   "cell_type": "code",
   "execution_count": 27,
   "id": "565a2a78",
   "metadata": {},
   "outputs": [],
   "source": [
    "Bank_IND.drop(labels='emp.var.rate', axis=1, inplace=True)"
   ]
  },
  {
   "cell_type": "code",
   "execution_count": 28,
   "id": "f416844c",
   "metadata": {},
   "outputs": [
    {
     "name": "stdout",
     "output_type": "stream",
     "text": [
      "           columns        vif\n",
      "0              age   1.190740\n",
      "1              job   2.087305\n",
      "2          marital   5.172257\n",
      "3        education   4.088987\n",
      "4          housing   2.158547\n",
      "5             loan   1.202687\n",
      "6          contact   3.142290\n",
      "7            month   4.782980\n",
      "8      day_of_week   2.956884\n",
      "9         duration   1.011438\n",
      "10        campaign   1.033744\n",
      "11           pdays   3.231412\n",
      "12        previous   3.090212\n",
      "13        poutcome  12.294280\n",
      "14  cons.price.idx   3.020114\n",
      "15   cons.conf.idx   1.356451\n",
      "16       euribor3m   2.909118\n"
     ]
    }
   ],
   "source": [
    "X=Bank_IND\n",
    "vif_Bank=pd.DataFrame()\n",
    "vif_Bank[\"columns\"]=X.columns\n",
    "vif_Bank[\"vif\"]=[variance_inflation_factor(X.values,i) for i in range(len(X.columns))]\n",
    "print(vif_Bank)"
   ]
  },
  {
   "cell_type": "code",
   "execution_count": 29,
   "id": "73311ebc",
   "metadata": {},
   "outputs": [],
   "source": [
    "Bank_IND.drop(labels='poutcome', axis=1, inplace=True)"
   ]
  },
  {
   "cell_type": "code",
   "execution_count": 30,
   "id": "15033ba1",
   "metadata": {},
   "outputs": [],
   "source": [
    "Bank_IND.drop(labels='contact', axis=1, inplace=True)"
   ]
  },
  {
   "cell_type": "code",
   "execution_count": 31,
   "id": "4a02469f",
   "metadata": {},
   "outputs": [],
   "source": [
    "Bank_IND.drop(labels='month', axis=1, inplace=True)"
   ]
  },
  {
   "cell_type": "code",
   "execution_count": 32,
   "id": "f583fbc7",
   "metadata": {},
   "outputs": [],
   "source": [
    "Bank_IND.drop(labels='day_of_week', axis=1, inplace=True)"
   ]
  },
  {
   "cell_type": "code",
   "execution_count": 33,
   "id": "dd7dea66",
   "metadata": {},
   "outputs": [
    {
     "name": "stdout",
     "output_type": "stream",
     "text": [
      "           columns       vif\n",
      "0              age  1.103394\n",
      "1              job  1.991575\n",
      "2          marital  3.452617\n",
      "3        education  3.299655\n",
      "4          housing  1.969411\n",
      "5             loan  1.188593\n",
      "6         duration  1.009303\n",
      "7         campaign  1.028961\n",
      "8            pdays  1.613120\n",
      "9         previous  1.774404\n",
      "10  cons.price.idx  2.109558\n",
      "11   cons.conf.idx  1.217408\n",
      "12       euribor3m  2.786414\n"
     ]
    }
   ],
   "source": [
    "X=Bank_IND\n",
    "vif_Bank=pd.DataFrame()\n",
    "vif_Bank[\"columns\"]=X.columns\n",
    "vif_Bank[\"vif\"]=[variance_inflation_factor(X.values,i) for i in range(len(X.columns))]\n",
    "print(vif_Bank)"
   ]
  },
  {
   "cell_type": "code",
   "execution_count": 34,
   "id": "af989ba2",
   "metadata": {},
   "outputs": [],
   "source": [
    "#train test split\n",
    "from sklearn.model_selection import train_test_split"
   ]
  },
  {
   "cell_type": "code",
   "execution_count": 35,
   "id": "ea890d80",
   "metadata": {},
   "outputs": [],
   "source": [
    "x_train,x_test,y_train,y_test=train_test_split(Bank_IND,Bank_DEP,test_size=0.25,random_state=25)"
   ]
  },
  {
   "cell_type": "code",
   "execution_count": 36,
   "id": "d558f0bc",
   "metadata": {},
   "outputs": [],
   "source": [
    "#Logistic regression\n",
    "from sklearn.linear_model import LogisticRegression"
   ]
  },
  {
   "cell_type": "code",
   "execution_count": 37,
   "id": "06c64f4a",
   "metadata": {},
   "outputs": [],
   "source": [
    "Model_LogR=LogisticRegression()"
   ]
  },
  {
   "cell_type": "code",
   "execution_count": 38,
   "id": "bba00368",
   "metadata": {},
   "outputs": [
    {
     "data": {
      "text/plain": [
       "LogisticRegression()"
      ]
     },
     "execution_count": 38,
     "metadata": {},
     "output_type": "execute_result"
    }
   ],
   "source": [
    "Model_LogR.fit(x_train,y_train)"
   ]
  },
  {
   "cell_type": "code",
   "execution_count": 39,
   "id": "3fa5ad59",
   "metadata": {},
   "outputs": [],
   "source": [
    "y_pred=Model_LogR.predict(x_test)"
   ]
  },
  {
   "cell_type": "code",
   "execution_count": 40,
   "id": "66e915a4",
   "metadata": {},
   "outputs": [],
   "source": [
    "#confusion matrix\n",
    "from sklearn.metrics import confusion_matrix,accuracy_score"
   ]
  },
  {
   "cell_type": "code",
   "execution_count": 41,
   "id": "fc62feb7",
   "metadata": {},
   "outputs": [
    {
     "data": {
      "text/plain": [
       "array([[8930,  207],\n",
       "       [ 726,  435]], dtype=int64)"
      ]
     },
     "execution_count": 41,
     "metadata": {},
     "output_type": "execute_result"
    }
   ],
   "source": [
    "confusion_matrix(y_test,y_pred)"
   ]
  },
  {
   "cell_type": "code",
   "execution_count": 42,
   "id": "5b1ac96d",
   "metadata": {},
   "outputs": [
    {
     "data": {
      "text/plain": [
       "0.909399883472519"
      ]
     },
     "execution_count": 42,
     "metadata": {},
     "output_type": "execute_result"
    }
   ],
   "source": [
    "accuracy_score(y_test,y_pred)"
   ]
  },
  {
   "cell_type": "code",
   "execution_count": null,
   "id": "25d30648",
   "metadata": {},
   "outputs": [],
   "source": []
  }
 ],
 "metadata": {
  "kernelspec": {
   "display_name": "Python 3 (ipykernel)",
   "language": "python",
   "name": "python3"
  },
  "language_info": {
   "codemirror_mode": {
    "name": "ipython",
    "version": 3
   },
   "file_extension": ".py",
   "mimetype": "text/x-python",
   "name": "python",
   "nbconvert_exporter": "python",
   "pygments_lexer": "ipython3",
   "version": "3.9.7"
  }
 },
 "nbformat": 4,
 "nbformat_minor": 5
}
